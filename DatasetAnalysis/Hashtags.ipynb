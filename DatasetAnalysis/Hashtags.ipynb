{
 "cells": [
  {
   "cell_type": "markdown",
   "metadata": {},
   "source": [
    "# @Users and #Hashtags"
   ]
  },
  {
   "cell_type": "code",
   "execution_count": 31,
   "metadata": {},
   "outputs": [
    {
     "data": {
      "text/plain": [
       "['airline_sentiment',\n",
       " 'is_reply',\n",
       " 'reply_count',\n",
       " 'retweet_count',\n",
       " 'text',\n",
       " 'tweet_coord',\n",
       " 'tweet_created',\n",
       " 'tweet_location',\n",
       " 'user_timezone',\n",
       " 'newairline_sentiment']"
      ]
     },
     "execution_count": 31,
     "metadata": {},
     "output_type": "execute_result"
    }
   ],
   "source": [
    "import numpy as np\n",
    "import pandas as pd\n",
    "%matplotlib inline\n",
    "import matplotlib.pyplot as plt\n",
    "import seaborn as sns\n",
    "import string\n",
    "import re\n",
    "\n",
    "df = pd.read_csv('tweets_public2.csv', encoding='utf-16', index_col='tweet_id', sep=',')\n",
    "df.columns.tolist()"
   ]
  },
  {
   "cell_type": "code",
   "execution_count": 32,
   "metadata": {},
   "outputs": [
    {
     "data": {
      "text/html": [
       "<div>\n",
       "<style>\n",
       "    .dataframe thead tr:only-child th {\n",
       "        text-align: right;\n",
       "    }\n",
       "\n",
       "    .dataframe thead th {\n",
       "        text-align: left;\n",
       "    }\n",
       "\n",
       "    .dataframe tbody tr th {\n",
       "        vertical-align: top;\n",
       "    }\n",
       "</style>\n",
       "<table border=\"1\" class=\"dataframe\">\n",
       "  <thead>\n",
       "    <tr style=\"text-align: right;\">\n",
       "      <th></th>\n",
       "      <th>airline_sentiment</th>\n",
       "      <th>is_reply</th>\n",
       "      <th>reply_count</th>\n",
       "      <th>retweet_count</th>\n",
       "      <th>text</th>\n",
       "      <th>tweet_coord</th>\n",
       "      <th>tweet_created</th>\n",
       "      <th>tweet_location</th>\n",
       "      <th>user_timezone</th>\n",
       "      <th>newairline_sentiment</th>\n",
       "    </tr>\n",
       "    <tr>\n",
       "      <th>tweet_id</th>\n",
       "      <th></th>\n",
       "      <th></th>\n",
       "      <th></th>\n",
       "      <th></th>\n",
       "      <th></th>\n",
       "      <th></th>\n",
       "      <th></th>\n",
       "      <th></th>\n",
       "      <th></th>\n",
       "      <th></th>\n",
       "    </tr>\n",
       "  </thead>\n",
       "  <tbody>\n",
       "    <tr>\n",
       "      <th>942743012337123328</th>\n",
       "      <td>positive</td>\n",
       "      <td>False</td>\n",
       "      <td>0</td>\n",
       "      <td>0</td>\n",
       "      <td>\"los pilotos de ryanair desconvocan la huelga ...</td>\n",
       "      <td>NaN</td>\n",
       "      <td>Mon Dec 18 13:07:04 +0000 2017</td>\n",
       "      <td>NaN</td>\n",
       "      <td>Dublin</td>\n",
       "      <td>positive</td>\n",
       "    </tr>\n",
       "    <tr>\n",
       "      <th>926857871916183553</th>\n",
       "      <td>positive</td>\n",
       "      <td>True</td>\n",
       "      <td>0</td>\n",
       "      <td>0</td>\n",
       "      <td>@iberia @lavecinarubia si ,por favor las decla...</td>\n",
       "      <td>NaN</td>\n",
       "      <td>Sat Nov 04 17:05:11 +0000 2017</td>\n",
       "      <td>NaN</td>\n",
       "      <td>NaN</td>\n",
       "      <td>positive</td>\n",
       "    </tr>\n",
       "    <tr>\n",
       "      <th>936979305720090626</th>\n",
       "      <td>neutral</td>\n",
       "      <td>True</td>\n",
       "      <td>0</td>\n",
       "      <td>0</td>\n",
       "      <td>@iberia me dirías por favor que costo tiene?</td>\n",
       "      <td>NaN</td>\n",
       "      <td>Sat Dec 02 15:24:09 +0000 2017</td>\n",
       "      <td>NaN</td>\n",
       "      <td>NaN</td>\n",
       "      <td>neutral</td>\n",
       "    </tr>\n",
       "    <tr>\n",
       "      <th>943983853802328064</th>\n",
       "      <td>negative</td>\n",
       "      <td>True</td>\n",
       "      <td>0</td>\n",
       "      <td>0</td>\n",
       "      <td>@supermanlopezn @iberia @giroditalia champion,...</td>\n",
       "      <td>NaN</td>\n",
       "      <td>Thu Dec 21 23:17:43 +0000 2017</td>\n",
       "      <td>NaN</td>\n",
       "      <td>Central Time (US &amp; Canada)</td>\n",
       "      <td>negative</td>\n",
       "    </tr>\n",
       "    <tr>\n",
       "      <th>938207464457211904</th>\n",
       "      <td>negative</td>\n",
       "      <td>True</td>\n",
       "      <td>0</td>\n",
       "      <td>0</td>\n",
       "      <td>@srtafarrelldm @klm @iberia eso de avianca es ...</td>\n",
       "      <td>NaN</td>\n",
       "      <td>Wed Dec 06 00:44:25 +0000 2017</td>\n",
       "      <td>NaN</td>\n",
       "      <td>Eastern Time (US &amp; Canada)</td>\n",
       "      <td>negative</td>\n",
       "    </tr>\n",
       "  </tbody>\n",
       "</table>\n",
       "</div>"
      ],
      "text/plain": [
       "                   airline_sentiment  is_reply  reply_count  retweet_count  \\\n",
       "tweet_id                                                                     \n",
       "942743012337123328          positive     False            0              0   \n",
       "926857871916183553          positive      True            0              0   \n",
       "936979305720090626           neutral      True            0              0   \n",
       "943983853802328064          negative      True            0              0   \n",
       "938207464457211904          negative      True            0              0   \n",
       "\n",
       "                                                                 text  \\\n",
       "tweet_id                                                                \n",
       "942743012337123328  \"los pilotos de ryanair desconvocan la huelga ...   \n",
       "926857871916183553  @iberia @lavecinarubia si ,por favor las decla...   \n",
       "936979305720090626       @iberia me dirías por favor que costo tiene?   \n",
       "943983853802328064  @supermanlopezn @iberia @giroditalia champion,...   \n",
       "938207464457211904  @srtafarrelldm @klm @iberia eso de avianca es ...   \n",
       "\n",
       "                   tweet_coord                   tweet_created tweet_location  \\\n",
       "tweet_id                                                                        \n",
       "942743012337123328         NaN  Mon Dec 18 13:07:04 +0000 2017            NaN   \n",
       "926857871916183553         NaN  Sat Nov 04 17:05:11 +0000 2017            NaN   \n",
       "936979305720090626         NaN  Sat Dec 02 15:24:09 +0000 2017            NaN   \n",
       "943983853802328064         NaN  Thu Dec 21 23:17:43 +0000 2017            NaN   \n",
       "938207464457211904         NaN  Wed Dec 06 00:44:25 +0000 2017            NaN   \n",
       "\n",
       "                                 user_timezone newairline_sentiment  \n",
       "tweet_id                                                             \n",
       "942743012337123328                      Dublin             positive  \n",
       "926857871916183553                         NaN             positive  \n",
       "936979305720090626                         NaN              neutral  \n",
       "943983853802328064  Central Time (US & Canada)             negative  \n",
       "938207464457211904  Eastern Time (US & Canada)             negative  "
      ]
     },
     "execution_count": 32,
     "metadata": {},
     "output_type": "execute_result"
    }
   ],
   "source": [
    "def cleaning(tweet):\n",
    "    #Convert to lower case\n",
    "    tweet = tweet.lower()\n",
    "    #Delete URLs www.* or https?://*\n",
    "    tweet = re.sub('((www\\.[^\\s]+)|(https?://[^\\s]+))','',tweet)\n",
    "    #Remove additional white spaces\n",
    "    tweet = re.sub('\\s+', ' ', tweet)\n",
    "    #Delete via, rt and by\n",
    "    tweet = re.sub(r'\\b(rt|via|by)\\b','',tweet)\n",
    "    # Remove single characters\n",
    "    tweet = re.sub(r'\\b\\w\\b','',tweet)\n",
    "    return tweet\n",
    "\n",
    "df['text'] = df['text'].apply(cleaning)\n",
    "df.head()"
   ]
  },
  {
   "cell_type": "markdown",
   "metadata": {},
   "source": [
    "Extract the users and the hashtags that appear in each tweet and store them in two new columns"
   ]
  },
  {
   "cell_type": "code",
   "execution_count": 33,
   "metadata": {},
   "outputs": [
    {
     "data": {
      "text/html": [
       "<div>\n",
       "<style>\n",
       "    .dataframe thead tr:only-child th {\n",
       "        text-align: right;\n",
       "    }\n",
       "\n",
       "    .dataframe thead th {\n",
       "        text-align: left;\n",
       "    }\n",
       "\n",
       "    .dataframe tbody tr th {\n",
       "        vertical-align: top;\n",
       "    }\n",
       "</style>\n",
       "<table border=\"1\" class=\"dataframe\">\n",
       "  <thead>\n",
       "    <tr style=\"text-align: right;\">\n",
       "      <th></th>\n",
       "      <th>airline_sentiment</th>\n",
       "      <th>is_reply</th>\n",
       "      <th>reply_count</th>\n",
       "      <th>retweet_count</th>\n",
       "      <th>text</th>\n",
       "      <th>tweet_coord</th>\n",
       "      <th>tweet_created</th>\n",
       "      <th>tweet_location</th>\n",
       "      <th>user_timezone</th>\n",
       "      <th>newairline_sentiment</th>\n",
       "      <th>users</th>\n",
       "      <th>hashtags</th>\n",
       "    </tr>\n",
       "    <tr>\n",
       "      <th>tweet_id</th>\n",
       "      <th></th>\n",
       "      <th></th>\n",
       "      <th></th>\n",
       "      <th></th>\n",
       "      <th></th>\n",
       "      <th></th>\n",
       "      <th></th>\n",
       "      <th></th>\n",
       "      <th></th>\n",
       "      <th></th>\n",
       "      <th></th>\n",
       "      <th></th>\n",
       "    </tr>\n",
       "  </thead>\n",
       "  <tbody>\n",
       "    <tr>\n",
       "      <th>926857871916183553</th>\n",
       "      <td>positive</td>\n",
       "      <td>True</td>\n",
       "      <td>0</td>\n",
       "      <td>0</td>\n",
       "      <td>@iberia @lavecinarubia si ,por favor las decla...</td>\n",
       "      <td>NaN</td>\n",
       "      <td>Sat Nov 04 17:05:11 +0000 2017</td>\n",
       "      <td>NaN</td>\n",
       "      <td>NaN</td>\n",
       "      <td>positive</td>\n",
       "      <td>iberia|lavecinarubia</td>\n",
       "      <td>rubijarena</td>\n",
       "    </tr>\n",
       "    <tr>\n",
       "      <th>932856751099142144</th>\n",
       "      <td>positive</td>\n",
       "      <td>False</td>\n",
       "      <td>0</td>\n",
       "      <td>0</td>\n",
       "      <td>con @iberia, mi destino  un solo click. ¡desea...</td>\n",
       "      <td>NaN</td>\n",
       "      <td>Tue Nov 21 06:22:35 +0000 2017</td>\n",
       "      <td>NaN</td>\n",
       "      <td>NaN</td>\n",
       "      <td>neutral</td>\n",
       "      <td>iberia</td>\n",
       "      <td>holacolombia</td>\n",
       "    </tr>\n",
       "    <tr>\n",
       "      <th>937549230994051073</th>\n",
       "      <td>positive</td>\n",
       "      <td>False</td>\n",
       "      <td>0</td>\n",
       "      <td>0</td>\n",
       "      <td>con @iberia, mi destino  un solo click. ¡desea...</td>\n",
       "      <td>NaN</td>\n",
       "      <td>Mon Dec 04 05:08:50 +0000 2017</td>\n",
       "      <td>NaN</td>\n",
       "      <td>Central Time (US &amp; Canada)</td>\n",
       "      <td>neutral</td>\n",
       "      <td>iberia</td>\n",
       "      <td>holacolombia</td>\n",
       "    </tr>\n",
       "    <tr>\n",
       "      <th>931611760829792256</th>\n",
       "      <td>neutral</td>\n",
       "      <td>False</td>\n",
       "      <td>0</td>\n",
       "      <td>0</td>\n",
       "      <td>con @iberia, mi destino  un solo click. ¡desea...</td>\n",
       "      <td>NaN</td>\n",
       "      <td>Fri Nov 17 19:55:26 +0000 2017</td>\n",
       "      <td>NaN</td>\n",
       "      <td>NaN</td>\n",
       "      <td>neutral</td>\n",
       "      <td>iberia</td>\n",
       "      <td>holaargentina</td>\n",
       "    </tr>\n",
       "    <tr>\n",
       "      <th>941121849366368258</th>\n",
       "      <td>positive</td>\n",
       "      <td>False</td>\n",
       "      <td>0</td>\n",
       "      <td>0</td>\n",
       "      <td>iberia ampliará oferta de asientos  méxico, ar...</td>\n",
       "      <td>NaN</td>\n",
       "      <td>Thu Dec 14 01:45:08 +0000 2017</td>\n",
       "      <td>NaN</td>\n",
       "      <td>Mexico City</td>\n",
       "      <td>positive</td>\n",
       "      <td>NaN</td>\n",
       "      <td>turismo|méxico</td>\n",
       "    </tr>\n",
       "  </tbody>\n",
       "</table>\n",
       "</div>"
      ],
      "text/plain": [
       "                   airline_sentiment  is_reply  reply_count  retweet_count  \\\n",
       "tweet_id                                                                     \n",
       "926857871916183553          positive      True            0              0   \n",
       "932856751099142144          positive     False            0              0   \n",
       "937549230994051073          positive     False            0              0   \n",
       "931611760829792256           neutral     False            0              0   \n",
       "941121849366368258          positive     False            0              0   \n",
       "\n",
       "                                                                 text  \\\n",
       "tweet_id                                                                \n",
       "926857871916183553  @iberia @lavecinarubia si ,por favor las decla...   \n",
       "932856751099142144  con @iberia, mi destino  un solo click. ¡desea...   \n",
       "937549230994051073  con @iberia, mi destino  un solo click. ¡desea...   \n",
       "931611760829792256  con @iberia, mi destino  un solo click. ¡desea...   \n",
       "941121849366368258  iberia ampliará oferta de asientos  méxico, ar...   \n",
       "\n",
       "                   tweet_coord                   tweet_created tweet_location  \\\n",
       "tweet_id                                                                        \n",
       "926857871916183553         NaN  Sat Nov 04 17:05:11 +0000 2017            NaN   \n",
       "932856751099142144         NaN  Tue Nov 21 06:22:35 +0000 2017            NaN   \n",
       "937549230994051073         NaN  Mon Dec 04 05:08:50 +0000 2017            NaN   \n",
       "931611760829792256         NaN  Fri Nov 17 19:55:26 +0000 2017            NaN   \n",
       "941121849366368258         NaN  Thu Dec 14 01:45:08 +0000 2017            NaN   \n",
       "\n",
       "                                 user_timezone newairline_sentiment  \\\n",
       "tweet_id                                                              \n",
       "926857871916183553                         NaN             positive   \n",
       "932856751099142144                         NaN              neutral   \n",
       "937549230994051073  Central Time (US & Canada)              neutral   \n",
       "931611760829792256                         NaN              neutral   \n",
       "941121849366368258                 Mexico City             positive   \n",
       "\n",
       "                                   users        hashtags  \n",
       "tweet_id                                                  \n",
       "926857871916183553  iberia|lavecinarubia      rubijarena  \n",
       "932856751099142144                iberia    holacolombia  \n",
       "937549230994051073                iberia    holacolombia  \n",
       "931611760829792256                iberia   holaargentina  \n",
       "941121849366368258                   NaN  turismo|méxico  "
      ]
     },
     "execution_count": 33,
     "metadata": {},
     "output_type": "execute_result"
    }
   ],
   "source": [
    "def extract_users(tweet):\n",
    "    users = re.findall(r'@\\S\\w*',tweet)\n",
    "    usersnoarrova = [user[1:] for user in users]\n",
    "    usersnoarrova = '|'.join(usersnoarrova)\n",
    "    if len(users)==0 : usersnoarrova = np.nan\n",
    "    return usersnoarrova\n",
    "df['users'] = df['text'].apply(extract_users)\n",
    "\n",
    "def extract_hashtags(tweet):\n",
    "    hashtags = re.findall(r'#\\S[^0-9]\\w*',tweet)\n",
    "    nohash = [hashtag[1:] for hashtag in hashtags]\n",
    "    nohash = '|'.join(nohash)\n",
    "    if len(hashtags)==0 : nohash = np.nan\n",
    "    return nohash\n",
    "df['hashtags'] = df['text'].apply(extract_hashtags)\n",
    "\n",
    "# Drop data gaps in column 'hastags'\n",
    "df2 = df.dropna(subset=['hashtags'])\n",
    "df2.head()"
   ]
  },
  {
   "cell_type": "code",
   "execution_count": 35,
   "metadata": {},
   "outputs": [
    {
     "data": {
      "text/html": [
       "<div>\n",
       "<style>\n",
       "    .dataframe thead tr:only-child th {\n",
       "        text-align: right;\n",
       "    }\n",
       "\n",
       "    .dataframe thead th {\n",
       "        text-align: left;\n",
       "    }\n",
       "\n",
       "    .dataframe tbody tr th {\n",
       "        vertical-align: top;\n",
       "    }\n",
       "</style>\n",
       "<table border=\"1\" class=\"dataframe\">\n",
       "  <thead>\n",
       "    <tr style=\"text-align: right;\">\n",
       "      <th></th>\n",
       "      <th>negative</th>\n",
       "      <th>neutral</th>\n",
       "      <th>positive</th>\n",
       "    </tr>\n",
       "    <tr>\n",
       "      <th>hashtag</th>\n",
       "      <th></th>\n",
       "      <th></th>\n",
       "      <th></th>\n",
       "    </tr>\n",
       "  </thead>\n",
       "  <tbody>\n",
       "    <tr>\n",
       "      <th>zorionak</th>\n",
       "      <td>0</td>\n",
       "      <td>1</td>\n",
       "      <td>0</td>\n",
       "    </tr>\n",
       "    <tr>\n",
       "      <th>ánimo</th>\n",
       "      <td>1</td>\n",
       "      <td>0</td>\n",
       "      <td>0</td>\n",
       "    </tr>\n",
       "    <tr>\n",
       "      <th>ñublense</th>\n",
       "      <td>1</td>\n",
       "      <td>0</td>\n",
       "      <td>0</td>\n",
       "    </tr>\n",
       "    <tr>\n",
       "      <th>últimosegundo</th>\n",
       "      <td>1</td>\n",
       "      <td>0</td>\n",
       "      <td>0</td>\n",
       "    </tr>\n",
       "  </tbody>\n",
       "</table>\n",
       "</div>"
      ],
      "text/plain": [
       "               negative  neutral  positive\n",
       "hashtag                                   \n",
       "zorionak              0        1         0\n",
       "ánimo                 1        0         0\n",
       "ñublense              1        0         0\n",
       "últimosegundo         1        0         0"
      ]
     },
     "execution_count": 35,
     "metadata": {},
     "output_type": "execute_result"
    }
   ],
   "source": [
    "# Dataframe sentiment vs. hashtag\n",
    "sentiment_hashtag = df2.set_index('newairline_sentiment').hashtags.str.split(r'|', expand=True).stack().reset_index(level='newairline_sentiment')\n",
    "sentiment_hashtag.columns = ['newairline_sentiment','hashtag']\n",
    "# Dataframe hashtag vs. sentiment, where multiple hashtags have \n",
    "# replicated sentiments \n",
    "df3 = sentiment_hashtag.set_index('hashtag')\n",
    "# One-hot encoding for airline sentiment\n",
    "counted = pd.get_dummies(df3['newairline_sentiment'])\n",
    "histogram = counted.groupby('hashtag').sum()\n",
    "histogram.tail(4)"
   ]
  },
  {
   "cell_type": "code",
   "execution_count": 36,
   "metadata": {},
   "outputs": [
    {
     "data": {
      "image/png": "[encoded data removed]",
      "text/plain": [
       "<matplotlib.figure.Figure at 0x1a187297f0>"
      ]
     },
     "metadata": {},
     "output_type": "display_data"
    },
    {
     "data": {
      "image/png": "[encoded data removed]",
      "text/plain": [
       "<matplotlib.figure.Figure at 0x1a1b13beb8>"
      ]
     },
     "metadata": {},
     "output_type": "display_data"
    },
    {
     "data": {
      "image/png": "[encoded data removed]",
      "text/plain": [
       "<matplotlib.figure.Figure at 0x1a1aef9ac8>"
      ]
     },
     "metadata": {},
     "output_type": "display_data"
    },
    {
     "data": {
      "text/plain": [
       "<matplotlib.figure.Figure at 0x1a0f3ee240>"
      ]
     },
     "metadata": {},
     "output_type": "display_data"
    }
   ],
   "source": [
    "def plot_histo(key):\n",
    "    subhisto = histogram[key]\n",
    "    sortlargest = subhisto[histogram[key] > 2].sort_values(ascending=False)\n",
    "    # Plot\n",
    "    barcolor = {'positive':sns.xkcd_rgb[\"medium green\"],'negative':sns.xkcd_rgb[\"pale red\"],'neutral':sns.xkcd_rgb[\"steel blue\"]}\n",
    "    ax = sortlargest.plot(kind='bar',title=key+' tweets',color=barcolor[key])\n",
    "    ax.set_ylabel('Number of appearances')\n",
    "    ax.set_xlabel('#Hashtags')\n",
    "    ax.set_xticks(np.arange(len(sortlargest)))\n",
    "    ax.set_xticklabels(sortlargest.index.values, rotation=90)\n",
    "    plt.show()\n",
    "    \n",
    "    fig = plt.gcf()\n",
    "    fig.set_size_inches(6,6)\n",
    "    fig.savefig('hashtags'+key+'.jpg', bbox_inches='tight',dpi=300)\n",
    "    return\n",
    "\n",
    "keys = ['neutral','positive','negative']\n",
    "for key in keys:\n",
    "    plot_histo(key)"
   ]
  },
  {
   "cell_type": "code",
   "execution_count": 39,
   "metadata": {},
   "outputs": [
    {
     "data": {
      "image/png": "[encoded data removed]",
      "text/plain": [
       "<matplotlib.figure.Figure at 0x1a187037f0>"
      ]
     },
     "metadata": {},
     "output_type": "display_data"
    }
   ],
   "source": [
    "key = 'neutral'\n",
    "subhisto = histogram[key]\n",
    "sortlargest = subhisto[histogram[key] > 4].sort_values(ascending=False)\n",
    "# Plot\n",
    "barcolor = {'positive':sns.xkcd_rgb[\"medium green\"],'negative':sns.xkcd_rgb[\"pale red\"],'neutral':sns.xkcd_rgb[\"steel blue\"]}\n",
    "ax = sortlargest.plot(kind='bar',title=key+' tweets',color=barcolor[key])\n",
    "ax.set_ylabel('Number of appearances')\n",
    "ax.set_xlabel('#Hashtags')\n",
    "ax.set_xticks(np.arange(len(sortlargest)))\n",
    "ax.set_xticklabels(sortlargest.index.values, rotation=90)\n",
    "fig = plt.gcf()\n",
    "fig.set_size_inches(6,3)\n",
    "fig.savefig('hashtagsNEUTRAL.jpg', bbox_inches='tight',dpi=300)"
   ]
  },
  {
   "cell_type": "code",
   "execution_count": 40,
   "metadata": {
    "collapsed": true
   },
   "outputs": [],
   "source": [
    "### @ Users"
   ]
  },
  {
   "cell_type": "code",
   "execution_count": 41,
   "metadata": {},
   "outputs": [
    {
     "data": {
      "text/html": [
       "<div>\n",
       "<style>\n",
       "    .dataframe thead tr:only-child th {\n",
       "        text-align: right;\n",
       "    }\n",
       "\n",
       "    .dataframe thead th {\n",
       "        text-align: left;\n",
       "    }\n",
       "\n",
       "    .dataframe tbody tr th {\n",
       "        vertical-align: top;\n",
       "    }\n",
       "</style>\n",
       "<table border=\"1\" class=\"dataframe\">\n",
       "  <thead>\n",
       "    <tr style=\"text-align: right;\">\n",
       "      <th></th>\n",
       "      <th>negative</th>\n",
       "      <th>neutral</th>\n",
       "      <th>positive</th>\n",
       "    </tr>\n",
       "    <tr>\n",
       "      <th>users</th>\n",
       "      <th></th>\n",
       "      <th></th>\n",
       "      <th></th>\n",
       "    </tr>\n",
       "  </thead>\n",
       "  <tbody>\n",
       "    <tr>\n",
       "      <th>/ryanair</th>\n",
       "      <td>1.0</td>\n",
       "      <td>0.0</td>\n",
       "      <td>0.0</td>\n",
       "    </tr>\n",
       "    <tr>\n",
       "      <th>007doctorno</th>\n",
       "      <td>0.0</td>\n",
       "      <td>0.0</td>\n",
       "      <td>1.0</td>\n",
       "    </tr>\n",
       "    <tr>\n",
       "      <th>1961_pilar</th>\n",
       "      <td>0.0</td>\n",
       "      <td>0.0</td>\n",
       "      <td>1.0</td>\n",
       "    </tr>\n",
       "    <tr>\n",
       "      <th>1976agus</th>\n",
       "      <td>0.0</td>\n",
       "      <td>0.0</td>\n",
       "      <td>1.0</td>\n",
       "    </tr>\n",
       "  </tbody>\n",
       "</table>\n",
       "</div>"
      ],
      "text/plain": [
       "             negative  neutral  positive\n",
       "users                                   \n",
       "/ryanair          1.0      0.0       0.0\n",
       "007doctorno       0.0      0.0       1.0\n",
       "1961_pilar        0.0      0.0       1.0\n",
       "1976agus          0.0      0.0       1.0"
      ]
     },
     "execution_count": 41,
     "metadata": {},
     "output_type": "execute_result"
    }
   ],
   "source": [
    "# Drop data gaps in column 'users'\n",
    "df2 = df.dropna(subset=['users'])\n",
    "# Dataframe sentiment vs. users\n",
    "sentiment_users = df2.set_index('newairline_sentiment').users.str.split(r'|', expand=True).stack().reset_index(level='newairline_sentiment')\n",
    "sentiment_users.columns = ['newairline_sentiment','users']\n",
    "# Dataframe users vs. sentiment, where multiple users have \n",
    "# replicated sentiments \n",
    "df3 = sentiment_users.set_index('users')\n",
    "# One-hot encoding for airline sentiment\n",
    "counted = pd.get_dummies(df3['newairline_sentiment'])\n",
    "histogram = counted.groupby('users').sum()\n",
    "histogram.head(4)"
   ]
  },
  {
   "cell_type": "code",
   "execution_count": 42,
   "metadata": {
    "scrolled": true
   },
   "outputs": [
    {
     "data": {
      "image/png": "[encoded data removed]",
      "text/plain": [
       "<matplotlib.figure.Figure at 0x1a0dd7d4e0>"
      ]
     },
     "metadata": {},
     "output_type": "display_data"
    },
    {
     "data": {
      "image/png": "[encoded data removed]",
      "text/plain": [
       "<matplotlib.figure.Figure at 0x1a0dd7d470>"
      ]
     },
     "metadata": {},
     "output_type": "display_data"
    },
    {
     "data": {
      "image/png": "[encoded data removed]",
      "text/plain": [
       "<matplotlib.figure.Figure at 0x1a0da919e8>"
      ]
     },
     "metadata": {},
     "output_type": "display_data"
    }
   ],
   "source": [
    "def plot_histo(key):\n",
    "    subhisto = histogram[key]\n",
    "    sortlargest = subhisto[histogram[key] > 10].sort_values(ascending=False)\n",
    "    # Plot\n",
    "    barcolor = {'positive':'g','negative':'r','neutral':'gray'}\n",
    "    ax = sortlargest.plot(kind='bar',title=key+' tweets',color=barcolor[key])\n",
    "    ax.set_ylabel('Number of appearances')\n",
    "    ax.set_xlabel('@user')\n",
    "    ax.set_xticks(np.arange(len(sortlargest)))\n",
    "    ax.set_xticklabels(sortlargest.index.values, rotation=90)\n",
    "    plt.show()\n",
    "    return\n",
    "\n",
    "keys = ['negative','neutral','positive']\n",
    "for key in keys:\n",
    "    plot_histo(key)"
   ]
  },
  {
   "cell_type": "markdown",
   "metadata": {},
   "source": [
    "Hahstags and users contain mostly airline information. Hahstags like #holacolombia could be advertisment campaings (we could check how many tweets are identical or almost identical)... When did they started? Time evolution of the campaing?"
   ]
  },
  {
   "cell_type": "markdown",
   "metadata": {},
   "source": [
    "# Most common airlines"
   ]
  },
  {
   "cell_type": "code",
   "execution_count": null,
   "metadata": {},
   "outputs": [],
   "source": [
    "def cleaning(tweet):\n",
    "    # Remove numbers\n",
    "    tweet = re.sub(r'\\d+','',tweet)\n",
    "    # Remove punctuation (includes @ and #)\n",
    "    regex = re.compile('[%s]' % re.escape(string.punctuation+u\"¡\"+u\"¿\"+u\"€\"))\n",
    "    tweet = re.sub(regex,'',tweet)\n",
    "    #Remove white spaces\n",
    "    tweet = re.sub('\\s+', '', tweet)\n",
    "    return tweet\n",
    "\n",
    "df['cleantext'] = df['text'].apply(cleaning)\n",
    "df.head()"
   ]
  },
  {
   "cell_type": "code",
   "execution_count": null,
   "metadata": {},
   "outputs": [],
   "source": [
    "def joinstrings(frame):\n",
    "    onestring = ''.join(frame['cleantext'].str.lower())\n",
    "    return onestring\n",
    "all_text = df.groupby('airline_sentiment').apply(joinstrings)\n",
    "all_text['positive']"
   ]
  },
  {
   "cell_type": "markdown",
   "metadata": {},
   "source": [
    "We read a list of airlines from https://openflights.org/data.html and neglect those that are listed as non-active nowadays."
   ]
  },
  {
   "cell_type": "code",
   "execution_count": null,
   "metadata": {},
   "outputs": [],
   "source": [
    "airlines = pd.read_csv('airlines/airlines.dat', encoding='latin-1',index_col='Airline ID',sep=',')\n",
    "airlines.columns.tolist()\n",
    "#airlines[3700:4000]"
   ]
  },
  {
   "cell_type": "code",
   "execution_count": null,
   "metadata": {
    "collapsed": true,
    "scrolled": false
   },
   "outputs": [],
   "source": [
    "# Drop non-active airlines\n",
    "active_airlines = airlines.drop(airlines.index[(airlines.Active == 'N')])\n",
    "# Drop airlines with missing data\n",
    "active_airlines = active_airlines.dropna()\n",
    "# Save list of active complete airlines\n",
    "airlines_list = active_airlines['Name'].str.lower()\n",
    "#Remove white spaces\n",
    "airlines_list= [re.sub('\\s+', '',a) for a in airlines_list]"
   ]
  },
  {
   "cell_type": "code",
   "execution_count": null,
   "metadata": {},
   "outputs": [],
   "source": [
    "#airlines_list = airlines_list.tolist()\n",
    "print(airlines_list[20:30])"
   ]
  },
  {
   "cell_type": "code",
   "execution_count": null,
   "metadata": {},
   "outputs": [],
   "source": [
    "import re\n",
    "\n",
    "def extract_popular_airlines(frame):\n",
    "    keys = ['positive','negative','neutral']\n",
    "\n",
    "    for key in keys:\n",
    "        occ = dict()\n",
    "        for airline in airlines_list:\n",
    "            counts = len(re.findall(airline,all_text[key]))\n",
    "            print (airline, counts)\n",
    "            if(counts > 0): occ[airline] = counts\n",
    "        print(key)\n",
    "        print(occ.keys())\n",
    "        return occ\n",
    "#        for w in sorted(occ, key=occ.get, reverse=True):\n",
    "\n",
    "airlines_in_tweets = all_text.apply(extract_popular_airlines)"
   ]
  },
  {
   "cell_type": "code",
   "execution_count": null,
   "metadata": {},
   "outputs": [],
   "source": [
    "allnames = list(airlines_in_tweets['positive'].keys())+list(airlines_in_tweets['negative'].keys())+list(airlines_in_tweets['neutral'])\n",
    "#print(allnames)\n",
    "sorted(list(set(allnames)))"
   ]
  },
  {
   "cell_type": "code",
   "execution_count": null,
   "metadata": {},
   "outputs": [],
   "source": [
    "print(list(airlines_in_tweets['neutral']))"
   ]
  },
  {
   "cell_type": "code",
   "execution_count": null,
   "metadata": {
    "collapsed": true
   },
   "outputs": [],
   "source": []
  },
  {
   "cell_type": "code",
   "execution_count": null,
   "metadata": {
    "collapsed": true
   },
   "outputs": [],
   "source": []
  }
 ],
 "metadata": {
  "kernelspec": {
   "display_name": "Python 3",
   "language": "python",
   "name": "python3"
  },
  "language_info": {
   "codemirror_mode": {
    "name": "ipython",
    "version": 3
   },
   "file_extension": ".py",
   "mimetype": "text/x-python",
   "name": "python",
   "nbconvert_exporter": "python",
   "pygments_lexer": "ipython3",
   "version": "3.6.2"
  }
 },
 "nbformat": 4,
 "nbformat_minor": 2
}
