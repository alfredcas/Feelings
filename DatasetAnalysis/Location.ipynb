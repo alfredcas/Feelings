{
 "cells": [
  {
   "cell_type": "markdown",
   "metadata": {},
   "source": [
    "# Localización de los tweets"
   ]
  },
  {
   "cell_type": "code",
   "execution_count": 2,
   "metadata": {
    "collapsed": true
   },
   "outputs": [],
   "source": [
    "import numpy as np\n",
    "import pandas as pd\n",
    "%matplotlib inline\n",
    "import matplotlib.pyplot as plt\n",
    "\n",
    "df = pd.read_csv('tweets_public.csv', encoding='utf-16', index_col='tweet_id', sep=',')\n",
    "#df.columns.tolist()"
   ]
  },
  {
   "cell_type": "markdown",
   "metadata": {},
   "source": [
    "Después de leer los datos, nos quedamos sólo con la serie de la zona horaria (time_zone) y hacemos un one-hot-encoding para ver de dónde proceden la mayoría de los tweets de la muestra."
   ]
  },
  {
   "cell_type": "code",
   "execution_count": 7,
   "metadata": {},
   "outputs": [
    {
     "name": "stdout",
     "output_type": "stream",
     "text": [
      "Madrid                         36.159406\n",
      "Pacific Time (US & Canada)      8.868920\n",
      "Buenos Aires                    6.387966\n",
      "Greenland                       4.786091\n",
      "Athens                          4.747021\n",
      "Amsterdam                       4.688416\n",
      "Bogota                          4.121899\n",
      "Santiago                        3.672592\n",
      "Central Time (US & Canada)      3.125610\n",
      "London                          2.949795\n",
      "Caracas                         2.617699\n",
      "Eastern Time (US & Canada)      2.148857\n",
      "Mexico City                     1.719086\n",
      "Hawaii                          1.621410\n",
      "Brasilia                        1.133034\n",
      "Quito                           0.898613\n",
      "Mountain Time (US & Canada)     0.840008\n",
      "Paris                           0.742332\n",
      "Ljubljana                       0.722797\n",
      "Atlantic Time (Canada)          0.586052\n",
      "Europe/Madrid                   0.527447\n",
      "Dublin                          0.527447\n",
      "Central America                 0.507912\n",
      "Casablanca                      0.488377\n",
      "Belgrade                        0.468842\n",
      "Lisbon                          0.410236\n",
      "Brussels                        0.371166\n",
      "Rome                            0.351631\n",
      "La Paz                          0.293026\n",
      "Berlin                          0.293026\n",
      "                                 ...    \n",
      "Prague                          0.039070\n",
      "Mazatlan                        0.039070\n",
      "Alaska                          0.039070\n",
      "Indiana (East)                  0.039070\n",
      "Jakarta                         0.039070\n",
      "Budapest                        0.019535\n",
      "UTC                             0.019535\n",
      "Wellington                      0.019535\n",
      "Europe/Prague                   0.019535\n",
      "America/Buenos_Aires            0.019535\n",
      "Georgetown                      0.019535\n",
      "America/Chihuahua               0.019535\n",
      "America/Costa_Rica              0.019535\n",
      "America/Guayaquil               0.019535\n",
      "America/Lima                    0.019535\n",
      "America/Manaus                  0.019535\n",
      "America/Mexico_City             0.019535\n",
      "Yakutsk                         0.019535\n",
      "Copenhagen                      0.019535\n",
      "Skopje                          0.019535\n",
      "Saskatchewan                    0.019535\n",
      "Azores                          0.019535\n",
      "Bangkok                         0.019535\n",
      "Hong Kong                       0.019535\n",
      "Newfoundland                    0.019535\n",
      "Monrovia                        0.019535\n",
      "Cape Verde Is.                  0.019535\n",
      "Kyiv                            0.019535\n",
      "Karachi                         0.019535\n",
      "Sarajevo                        0.019535\n",
      "Length: 88, dtype: float64\n"
     ]
    }
   ],
   "source": [
    "# Select 'user_timezone'\n",
    "df_timezones = df[['user_timezone']]\n",
    "# Create a one-hot encoding.\n",
    "sent_timezones = pd.get_dummies(df_timezones['user_timezone'])\n",
    "#sent_timezones.head()\n",
    "\n",
    "timezone_histogram = sent_timezones.sum()\n",
    "percentage = timezone_histogram/timezone_histogram.sum()*100\n",
    "percentage = percentage.sort_values(ascending=False)\n",
    "\n",
    "print(percentage)"
   ]
  },
  {
   "cell_type": "markdown",
   "metadata": {},
   "source": [
    "La mayoría (36%) de tweets proceden de España (Madrid). Hay zonas que se podrían agrupar por continentes:\n",
    "- Madrid\n",
    "- Resto de Europa\n",
    "- US & Canada (Pacific Time+Central Time+Atlantic Time+etc)\n",
    "- Buenos Aire+Santiago\n",
    "- Africa\n",
    "- Asia\n",
    "\n",
    "Dibujamos las zonas más comunes (percentage > 1%)."
   ]
  },
  {
   "cell_type": "code",
   "execution_count": 4,
   "metadata": {},
   "outputs": [
    {
     "data": {
      "image/png": "[encoded data removed]",
      "text/plain": [
       "<matplotlib.figure.Figure at 0x104308208>"
      ]
     },
     "metadata": {},
     "output_type": "display_data"
    }
   ],
   "source": [
    "largest = percentage[percentage > 1]\n",
    "\n",
    "# Lines plot\n",
    "ax = largest.plot(marker='o')\n",
    "ax.set_ylabel('% of tweets')\n",
    "ax.set_xlabel('Time Zone')\n",
    "ax.set_xticks(np.arange(len(largest)))\n",
    "ax.set_xticklabels(largest.index.values, rotation=90)\n",
    "plt.savefig(\"Location.jpg\", bbox_inches='tight',dpi=400)\n",
    "plt.show()"
   ]
  },
  {
   "cell_type": "code",
   "execution_count": null,
   "metadata": {
    "collapsed": true
   },
   "outputs": [],
   "source": []
  }
 ],
 "metadata": {
  "kernelspec": {
   "display_name": "Python 3",
   "language": "python",
   "name": "python3"
  },
  "language_info": {
   "codemirror_mode": {
    "name": "ipython",
    "version": 3
   },
   "file_extension": ".py",
   "mimetype": "text/x-python",
   "name": "python",
   "nbconvert_exporter": "python",
   "pygments_lexer": "ipython3",
   "version": "3.6.2"
  }
 },
 "nbformat": 4,
 "nbformat_minor": 2
}
