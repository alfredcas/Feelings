{
 "cells": [
  {
   "cell_type": "code",
   "execution_count": 3,
   "metadata": {
    "collapsed": true
   },
   "outputs": [],
   "source": [
    "import datetime\n",
    "from sklearn.feature_extraction.text import CountVectorizer\n",
    "from sklearn.feature_extraction.text import TfidfTransformer\n",
    "from sklearn.model_selection import train_test_split\n",
    "from sklearn.pipeline import Pipeline\n",
    "from sklearn.naive_bayes import BernoulliNB\n",
    "from sklearn.linear_model import SGDClassifier\n",
    "from sklearn.neighbors import KNeighborsClassifier\n",
    "from sklearn.naive_bayes import MultinomialNB\n",
    "from sklearn.svm import LinearSVC\n",
    "from sklearn.metrics import accuracy_score\n",
    "from nltk.stem import WordNetLemmatizer\n",
    "from nltk.stem.snowball import SnowballStemmer\n",
    "from nltk.corpus import stopwords\n",
    "from sklearn import metrics\n",
    "import unidecode\n",
    "import matplotlib.pyplot as plt\n",
    "import pandas as pd\n",
    "import numpy as np\n",
    "import time\n",
    "import datetime\n",
    "import re\n",
    "import random"
   ]
  },
  {
   "cell_type": "code",
   "execution_count": 4,
   "metadata": {},
   "outputs": [
    {
     "data": {
      "text/plain": [
       "['airline_sentiment',\n",
       " 'is_reply',\n",
       " 'reply_count',\n",
       " 'retweet_count',\n",
       " 'text',\n",
       " 'tweet_coord',\n",
       " 'tweet_created',\n",
       " 'tweet_location',\n",
       " 'user_timezone',\n",
       " 'newairline_sentiment']"
      ]
     },
     "execution_count": 4,
     "metadata": {},
     "output_type": "execute_result"
    }
   ],
   "source": [
    "df = pd.read_csv('tweets_public2.csv', encoding='utf-16', index_col='tweet_id', sep=',')\n",
    "df.columns.tolist()"
   ]
  },
  {
   "cell_type": "code",
   "execution_count": 5,
   "metadata": {
    "collapsed": true
   },
   "outputs": [],
   "source": [
    "def delete_urlvideo(tweet):\n",
    "    #Delete URLs www.* or https?://*\n",
    "    tweet = re.sub('((www\\.[^\\s]+)|(https?://[^\\s]+))','',tweet)\n",
    "    #Delete VIDEO\n",
    "    tweet = re.sub('((\\[VIDEO\\])|(#VIDEO)|#vIDEO)','',tweet)\n",
    "    return tweet"
   ]
  },
  {
   "cell_type": "code",
   "execution_count": 6,
   "metadata": {
    "collapsed": true
   },
   "outputs": [],
   "source": [
    "def remove_duplicated_tweets(df):\n",
    "    # Delete duplicated tweets\n",
    "    df['text'] = df['text'].apply(delete_urlvideo)\n",
    "    df2 = df # df.drop_duplicates(subset='text',keep=False) \n",
    "    return df2"
   ]
  },
  {
   "cell_type": "markdown",
   "metadata": {},
   "source": [
    "# First steps:\n",
    "We create here a column named \"weekday_names\" in which we write the dat that the tweet was written\n",
    "We also create a column names \"hoursday\" in which we write the hour of the day in which the tweet was written"
   ]
  },
  {
   "cell_type": "code",
   "execution_count": 7,
   "metadata": {},
   "outputs": [],
   "source": [
    "df1 = remove_duplicated_tweets(df)\n",
    "weekdays = pd.to_datetime(df1.tweet_created).dt.dayofweek\n",
    "hoursday = pd.to_datetime(df1.tweet_created).dt.hour\n",
    "df1['hoursday'] = pd.Series(hoursday, index=df1.index)\n",
    "df1.tweet_created = pd.to_datetime(df1.tweet_created)"
   ]
  },
  {
   "cell_type": "code",
   "execution_count": 8,
   "metadata": {
    "collapsed": true,
    "scrolled": true
   },
   "outputs": [],
   "source": [
    "hh = ['0','1', '2', '3', '4', '5', '6', '7', '8', '9', '10', '11', '12', '13', '14', '15', '16', '17', '18', '19', '20', '21', '22', '23']\n",
    "hh_names = ['zero', 'una', 'dos', 'tres', 'cuatro', 'cinco', 'seis', 'siete', 'ocho', 'nueve', 'diez', 'once', 'doce', 'trece', 'catorce', 'quince', 'dieciseis', 'diecisiete', 'dieciocho', 'diecinueve', 'veinte', 'veintiuno', 'veintios', 'veintitres']"
   ]
  },
  {
   "cell_type": "code",
   "execution_count": 49,
   "metadata": {},
   "outputs": [
    {
     "data": {
      "text/html": [
       "<div>\n",
       "<style>\n",
       "    .dataframe thead tr:only-child th {\n",
       "        text-align: right;\n",
       "    }\n",
       "\n",
       "    .dataframe thead th {\n",
       "        text-align: left;\n",
       "    }\n",
       "\n",
       "    .dataframe tbody tr th {\n",
       "        vertical-align: top;\n",
       "    }\n",
       "</style>\n",
       "<table border=\"1\" class=\"dataframe\">\n",
       "  <thead>\n",
       "    <tr style=\"text-align: right;\">\n",
       "      <th></th>\n",
       "      <th>airline_sentiment</th>\n",
       "      <th>is_reply</th>\n",
       "      <th>reply_count</th>\n",
       "      <th>retweet_count</th>\n",
       "      <th>text</th>\n",
       "      <th>tweet_coord</th>\n",
       "      <th>tweet_created</th>\n",
       "      <th>tweet_location</th>\n",
       "      <th>user_timezone</th>\n",
       "      <th>newairline_sentiment</th>\n",
       "      <th>hoursday</th>\n",
       "    </tr>\n",
       "    <tr>\n",
       "      <th>tweet_id</th>\n",
       "      <th></th>\n",
       "      <th></th>\n",
       "      <th></th>\n",
       "      <th></th>\n",
       "      <th></th>\n",
       "      <th></th>\n",
       "      <th></th>\n",
       "      <th></th>\n",
       "      <th></th>\n",
       "      <th></th>\n",
       "      <th></th>\n",
       "    </tr>\n",
       "  </thead>\n",
       "  <tbody>\n",
       "    <tr>\n",
       "      <th>942743012337123328</th>\n",
       "      <td>positive</td>\n",
       "      <td>False</td>\n",
       "      <td>0</td>\n",
       "      <td>0</td>\n",
       "      <td>\"Los pilotos de Ryanair desconvocan la huelga ...</td>\n",
       "      <td>NaN</td>\n",
       "      <td>2017-12-18 13:07:04</td>\n",
       "      <td>NaN</td>\n",
       "      <td>Dublin</td>\n",
       "      <td>positive</td>\n",
       "      <td>13</td>\n",
       "    </tr>\n",
       "  </tbody>\n",
       "</table>\n",
       "</div>"
      ],
      "text/plain": [
       "                   airline_sentiment  is_reply  reply_count  retweet_count  \\\n",
       "tweet_id                                                                     \n",
       "942743012337123328          positive     False            0              0   \n",
       "\n",
       "                                                                 text  \\\n",
       "tweet_id                                                                \n",
       "942743012337123328  \"Los pilotos de Ryanair desconvocan la huelga ...   \n",
       "\n",
       "                   tweet_coord       tweet_created tweet_location  \\\n",
       "tweet_id                                                            \n",
       "942743012337123328         NaN 2017-12-18 13:07:04            NaN   \n",
       "\n",
       "                   user_timezone newairline_sentiment  hoursday  \n",
       "tweet_id                                                         \n",
       "942743012337123328        Dublin             positive        13  "
      ]
     },
     "execution_count": 49,
     "metadata": {},
     "output_type": "execute_result"
    }
   ],
   "source": [
    "df.head(1)"
   ]
  },
  {
   "cell_type": "markdown",
   "metadata": {},
   "source": [
    "Añadimos la hora como HORAhora a los tweets. Así no tenemos que añadir la columna extra y podemos usar la función pipeline."
   ]
  },
  {
   "cell_type": "code",
   "execution_count": 16,
   "metadata": {
    "collapsed": true
   },
   "outputs": [],
   "source": [
    "tweets_con_hora = [' '.join((df1.text[index], 'HORA'+hh_names[df1.hoursday[index]])) for index in df1.index]\n",
    "df1.text = tweets_con_hora"
   ]
  },
  {
   "cell_type": "markdown",
   "metadata": {},
   "source": [
    "# Function to create the submit file"
   ]
  },
  {
   "cell_type": "code",
   "execution_count": 17,
   "metadata": {
    "collapsed": true
   },
   "outputs": [],
   "source": [
    "def create_submit_file(df_submission, ypred):\n",
    "    date = datetime.datetime.now().strftime(\"%m_%d_%Y-%H_%M_%S\")\n",
    "    filename = 'submission_' + date + '.csv'\n",
    "\n",
    "    df_submission['airline_sentiment'] = ypred\n",
    "    df_submission[['airline_sentiment']].to_csv(filename)\n",
    "\n",
    "    print('Submission file created: {}'.format(filename))\n",
    "    print('Upload it to Kaggle InClass')\n"
   ]
  },
  {
   "cell_type": "markdown",
   "metadata": {},
   "source": [
    "# Stemlematizer\n",
    "This function takes the text in a tweet and reduces each word to its stem first, and then applies a lemmatization. As a result, a new dataframe is created, substituting the \"text\" column in the old one by the stemed-lematized text"
   ]
  },
  {
   "cell_type": "code",
   "execution_count": 18,
   "metadata": {
    "collapsed": true
   },
   "outputs": [],
   "source": [
    "def stemlematizer(df):\n",
    "    \"\"\" Function to reduce the words to their root\n",
    "    \"\"\"\n",
    "    lemmer=WordNetLemmatizer()\n",
    "    stemmer = SnowballStemmer('spanish')\n",
    "\n",
    "    new_corpus1 = [' '.join([stemmer.stem(word) for word in tweet.split(' ')]) for tweet in df.text.values]\n",
    "    new_corpus = [' '.join([lemmer.lemmatize(word) for word in tweet.split(' ')]) for tweet in new_corpus1] \n",
    "    \n",
    "    df.text = new_corpus\n",
    "    return df"
   ]
  },
  {
   "cell_type": "markdown",
   "metadata": {},
   "source": [
    "# This function is not used anymore in this notebook..."
   ]
  },
  {
   "cell_type": "code",
   "execution_count": 32,
   "metadata": {
    "collapsed": true
   },
   "outputs": [],
   "source": [
    "def load_and_train(dataframe, trainmodelclassifier, test=None, *model_args, **model_kwargs ):\n",
    "\n",
    "# If there is no test data, split the input\n",
    "    if test is None:\n",
    "        train, test = train_test_split(dataframe, test_size=0.2)\n",
    "    else:\n",
    "        train = dataframe\n",
    "\n",
    "    dataframe.airline_sentiment = pd.Categorical(dataframe.airline_sentiment)\n",
    "    \n",
    "    x_train = train['text']\n",
    "    y_train = train['airline_sentiment']\n",
    "    \n",
    "    x_test = test['text']\n",
    "    #we create the list of stop words specific for spanish:\n",
    "    spanish_stop_words = stopwords.words('spanish')\n",
    "    #we build the classifier, that has everything inside:\n",
    "    text_clf = Pipeline([('vect', CountVectorizer(min_df=1,\n",
    "                                              stop_words=spanish_stop_words, ngram_range=(1,2), \n",
    "                                              analyzer='word', token_pattern=r'[^@]\\b\\w+\\b')),\n",
    "                     ('tfidf', TfidfTransformer()),\n",
    "                     ('clf', trainmodelclassifier(*model_args, **model_kwargs))])\n",
    "\n",
    "    \n",
    "\n",
    "# SGDClassifier(loss='hinge', penalty='l2', alpha=1e-3, random_state=42, max_iter=5, tol=None))])\n",
    "\n",
    "    text_clf.fit(x_train, y_train)\n",
    "    predicted = text_clf.predict(x_test)\n",
    "\n",
    "    try:\n",
    "        y_test = test['airline_sentiment'].values\n",
    "    except:\n",
    "        # It might be the submision file, where we don't have target values\n",
    "        y_test = None\n",
    "   \n",
    "    try:\n",
    "        acc = accuracy_score(test.airline_sentiment, predicted)\n",
    "        print('accuracy_score = ', acc)\n",
    "    except:\n",
    "        print('No accuracy computed beacuse there is NO test target')\n",
    "        acc = None\n",
    "    return predicted, x_train, y_train, x_test, y_test, acc\n"
   ]
  },
  {
   "cell_type": "markdown",
   "metadata": {},
   "source": [
    "# Cleaning functions:\n",
    "\n",
    "Those are a set of functions that clean a bit more the text: convert all into lower case, take the @ from usernames, take the # from hashtags, etc."
   ]
  },
  {
   "cell_type": "code",
   "execution_count": 20,
   "metadata": {
    "collapsed": true
   },
   "outputs": [],
   "source": [
    "def processTweet2(tweet):\n",
    "    # process the tweets\n",
    "    #Convert to lower case\n",
    "    tweet = tweet.lower()\n",
    "    #Convert www.* or https?://* to URL\n",
    "    tweet = re.sub('((www\\.[^\\s]+)|(https?://[^\\s]+))','URL',tweet)\n",
    "    #Remove usernames\n",
    "    tweet = re.sub('@[^\\s]+','',tweet)\n",
    "    #Remove additional white spaces\n",
    "    tweet = re.sub('[\\s]+', ' ', tweet)\n",
    "    #Remove #word with word\n",
    "    tweet = re.sub(r'#([^\\s]+)', '', tweet)\n",
    "    #tweet = re.sub(r'\\#\\w+','',tweet)\n",
    "    return tweet  \n",
    "\n",
    "def handle_emojis(tweet):\n",
    "    tweet = re.sub(r'CC:', ' EMOPOS ', tweet)\n",
    "    # Smile -- :), : ), :-), (:, ( :, (-:, :')\n",
    "    tweet = re.sub(r'(:\\s?\\)|:-\\)|\\(\\s?:|\\(-:|:\\'\\))', ' EMOPOS ', tweet)\n",
    "    # Laugh -- :D, : D, :-D, xD, x-D, XD, X-D\n",
    "    tweet = re.sub(r'(:\\s?D|:-D|x-?D|X-?D)', ' EMOPOS ', tweet)\n",
    "    # Love -- <3, :*\n",
    "    tweet = re.sub(r'(<3|:\\*)', ' EMOPOS ', tweet)\n",
    "    # Wink -- ;-), ;), ;-D, ;D, (;,  (-;\n",
    "    tweet = re.sub(r'(;-?\\)|;-?D|\\(-?;)', ' EMOPOS ', tweet)\n",
    "    # Sad -- :-(, : (, :(, ):, )-:\n",
    "    tweet = re.sub(r'(:\\s?\\(|:-\\(|\\)\\s?:|\\)-:)', ' EMONEG ', tweet)\n",
    "    # Cry -- :,(, :'(, :\"(\n",
    "    tweet = re.sub(r'(:,\\(|:\\'\\(|:\"\\()', ' EMONEG ', tweet)\n",
    "    return tweet\n",
    "\n",
    "def preprocess_word(word):\n",
    "    # Remove punctuation\n",
    "    #word = word.strip('\\'\"?!,.():;')\n",
    "    word = word.strip('\\'\"?!,.')\n",
    "    # Convert more than 2 letter repetitions to 2 letter\n",
    "    # funnnnny --> funny\n",
    "    word = re.sub(r'(.)\\1+', r'\\1\\1', word)\n",
    "    # Remove - & '\n",
    "    word = re.sub(r'(-|\\')', '', word)\n",
    "    # remove numbers\n",
    "    word = re.sub(r'\\d+','',word)\n",
    "    #remove users \n",
    "    word = re.sub(r'AT_USER','',word)\n",
    "    word = re.sub(r'URL','',word)\n",
    "    word = re.sub(r'rt','',word)\n",
    "    word = re.sub(r'via','',word)\n",
    "    word = re.sub('\\s+', ' ', word)\n",
    "    #Delete via, rt and by\n",
    "    word = re.sub(r'\\brt\\b','',word)\n",
    "    word = re.sub(r'\\bvia\\b','',word)\n",
    "    word = re.sub(r'\\bby\\b','',word)\n",
    "    # Remove numbers\n",
    "    word = re.sub(r'\\d+','',word)\n",
    "    # Remove single characters\n",
    "    word = re.sub(r'\\b\\w\\b','',word)\n",
    "    # Remove accents\n",
    "    word = unidecode.unidecode(word)\n",
    "\n",
    "    return word\n",
    "\n",
    "def is_valid_word(word):\n",
    "    # Check if word begins with an alphabet\n",
    "    return (re.search(r'^[a-zA-Z][a-z0-9A-Z\\._]*$', word) is not None)"
   ]
  },
  {
   "cell_type": "code",
   "execution_count": 21,
   "metadata": {},
   "outputs": [],
   "source": [
    "tweets = [handle_emojis(tweet) for tweet in df1.text.values]\n",
    "tweets2 = [processTweet2(tweet) for tweet in tweets]\n",
    "tweets3 = [' '.join(preprocess_word(word) for word in tweet.split(' ')) for tweet in tweets2]\n",
    "df1.text = tweets3\n",
    "df1.text.values\n",
    "df1 = stemlematizer(df1)"
   ]
  },
  {
   "cell_type": "markdown",
   "metadata": {},
   "source": [
    "Here we create the list of hour names, as strings, in order to fill it with the value of the hour at which the tweet was written"
   ]
  },
  {
   "cell_type": "code",
   "execution_count": 11,
   "metadata": {
    "collapsed": true,
    "scrolled": true
   },
   "outputs": [],
   "source": [
    "hh = ['0','1', '2', '3', '4', '5', '6', '7', '8', '9', '10', '11', '12', '13', '14', '15', '16', '17', '18', '19', '20', '21', '22', '23']\n",
    "hh_names = ['zero', 'una', 'dos', 'tres', 'cuatro', 'cinco', 'seis', 'siete', 'ocho', 'nueve', 'diez', 'once', 'doce', 'trece', 'catorce', 'quince', 'dieciseis', 'diecisiete', 'dieciocho', 'diecinueve', 'veinte', 'veintiuno', 'veintios', 'veintitres']"
   ]
  },
  {
   "cell_type": "code",
   "execution_count": 22,
   "metadata": {
    "collapsed": true
   },
   "outputs": [],
   "source": [
    "#we create the list of stop words specific for spanish:\n",
    "spanish_stop_words = stopwords.words('spanish')\n",
    "count_vect = CountVectorizer(min_df=1, stop_words=spanish_stop_words, ngram_range=(1,2), analyzer='word', token_pattern=r'[^@]\\b\\w+\\b')\n",
    "X_train_counts = count_vect.fit_transform(df1.text.values)\n",
    "voc = count_vect.vocabulary_\n",
    "X_train_counts = X_train_counts.toarray()"
   ]
  },
  {
   "cell_type": "markdown",
   "metadata": {},
   "source": [
    "We fill the columns named as the hours with a 1 at the hour at which the tweet was written, and a 0 in all the other columns"
   ]
  },
  {
   "cell_type": "code",
   "execution_count": 13,
   "metadata": {
    "scrolled": true
   },
   "outputs": [],
   "source": [
    "for i in hh_names:\n",
    "    ind = df1.query('hoursday == @i').index\n",
    "    df1.loc[ind,i] = 1"
   ]
  },
  {
   "cell_type": "markdown",
   "metadata": {},
   "source": [
    "Then we copy these columns into the bag of words matrix"
   ]
  },
  {
   "cell_type": "code",
   "execution_count": 14,
   "metadata": {
    "collapsed": true
   },
   "outputs": [],
   "source": [
    "for h in hh_names:\n",
    "    col = np.array(df1[h].fillna(value = 0))\n",
    "    np.column_stack((X_train_counts,col))   "
   ]
  },
  {
   "cell_type": "markdown",
   "metadata": {},
   "source": [
    "We do the same for the week days: first we create the columns with the names, and we fill them: we put 1 in the day at which the tweet was written, and 0 in all the other days. Then we copy these columns into the bag-of-words matrix. We do not use this feature anymore, since it was not adding any information to the model"
   ]
  },
  {
   "cell_type": "code",
   "execution_count": 15,
   "metadata": {
    "collapsed": true
   },
   "outputs": [],
   "source": [
    "#for i in np.unique(np.array(df1['weekday_names'])):\n",
    "#    ind = df1.query('weekday_names == @i').index\n",
    "#    df1.loc[ind,i] = 1\n",
    "#for d in wn:\n",
    "#    col = np.array(df1[d].fillna(value = 0))\n",
    "#    np.column_stack((X_train_counts,col))\n"
   ]
  },
  {
   "cell_type": "markdown",
   "metadata": {},
   "source": [
    "We apply a Tfidf transformation in order to pass from absolute values to frequencies in the bag.of.words matrix. We then split the matrix into test and train and apply a classifier model, and test our training with the test sub-matrix"
   ]
  },
  {
   "cell_type": "code",
   "execution_count": 40,
   "metadata": {},
   "outputs": [
    {
     "name": "stdout",
     "output_type": "stream",
     "text": [
      "0.666018158236\n"
     ]
    }
   ],
   "source": [
    "tfidf_transformer = TfidfTransformer()\n",
    "X_train_tfidf = tfidf_transformer.fit_transform(X_train_counts)\n",
    "features_train,features_test,label_train,label_test = \\\n",
    "train_test_split(X_train_tfidf, df1.newairline_sentiment.values,test_size=0.2,random_state = 1223)\n",
    "sgc = SGDClassifier(penalty = 'elasticnet',max_iter = 10)\n",
    "svm = LinearSVC()\n",
    "sgc.fit(features_train,label_train)\n",
    "svm.fit(features_train,label_train)\n",
    "score = sgc.score(features_test,label_test)\n",
    "#scoresvm = svm.score(features_test, label_test)\n",
    "print(score)\n",
    "#print(scoresvm)"
   ]
  },
  {
   "cell_type": "markdown",
   "metadata": {},
   "source": [
    "In the next cell I try to compute the accuracy with another function (predict first, and then accuracy_score). The results are the same as before"
   ]
  },
  {
   "cell_type": "code",
   "execution_count": 26,
   "metadata": {},
   "outputs": [
    {
     "name": "stdout",
     "output_type": "stream",
     "text": [
      "0.664721141375\n"
     ]
    }
   ],
   "source": [
    "y_test_prediction = sgc.predict(features_test)\n",
    "acc = accuracy_score(label_test, y_test_prediction)\n",
    "print(acc)"
   ]
  },
  {
   "cell_type": "markdown",
   "metadata": {},
   "source": [
    "In the next cell I use the pipeline function load_and_train in order to compare it with the above result:\n",
    "\n",
    "In the above process, we add to the bag-of-words matrix some extra columns, as the day of the week or the hour of the day.\n",
    "In the next cell, these informations are not taken into account"
   ]
  },
  {
   "cell_type": "code",
   "execution_count": 38,
   "metadata": {
    "scrolled": true
   },
   "outputs": [
    {
     "name": "stdout",
     "output_type": "stream",
     "text": [
      "accuracy_score =  0.613488975357\n"
     ]
    }
   ],
   "source": [
    "predicted, x_train, y_train, x_test, y_test, acc = load_and_train(df1, SGDClassifier, test=None, penalty='elasticnet', max_iter=10)"
   ]
  },
  {
   "cell_type": "markdown",
   "metadata": {},
   "source": [
    "As can be seen, the results are pretty much the same..."
   ]
  },
  {
   "cell_type": "markdown",
   "metadata": {},
   "source": [
    "Here I do the processing of the tweets_submission.csv file, with the created model above. The procedure is exactly the same as before, except that here we use the bag-of-words created before"
   ]
  },
  {
   "cell_type": "code",
   "execution_count": 27,
   "metadata": {
    "collapsed": true
   },
   "outputs": [],
   "source": [
    "df0_s = pd.read_csv('tweets_submission.csv', index_col='tweet_id', sep=',')\n",
    "# Keep relevant columns only\n",
    "df1_s = df0_s.drop(['retweet_count','is_reply','reply_count','tweet_coord','tweet_location','user_timezone'], axis=1)\n",
    "df1_s['text'] = df1_s['text'].apply(delete_urlvideo)\n",
    "\n",
    "hoursday = pd.to_datetime(df1_s.tweet_created).dt.hour\n",
    "df1_s['hoursday'] = pd.Series(hoursday, index=df1_s.index)\n",
    "df1_s.tweet_created = pd.to_datetime(df1_s.tweet_created)\n",
    "\n",
    "tweets = [handle_emojis(tweet) for tweet in df1_s.text.values]\n",
    "tweets2 = [processTweet2(tweet) for tweet in tweets]\n",
    "tweets3 = [' '.join(preprocess_word(word) for word in tweet.split(' ')) for tweet in tweets2]\n",
    "df1_s.text = tweets3\n",
    "df1_s.text.values\n",
    "df1_s = stemlematizer(df1_s)\n",
    "\n",
    "count_vect = CountVectorizer(vocabulary=voc, min_df=1, stop_words=spanish_stop_words, ngram_range=(1,2), analyzer='word')\n",
    "X_submission_counts = count_vect.transform(df1_s.text.values)\n",
    "X_submission_counts = X_submission_counts.toarray()\n",
    "\n",
    "#for i in hh_names:\n",
    "#    ind = df1_s.query('hoursday == @i').index\n",
    "#    df1_s.loc[ind,i] = 1\n",
    "\n",
    "#for h in hh_names:\n",
    "#    col = np.array(df1_s[h].fillna(value = 0))\n",
    "#    np.column_stack((X_submission_counts,col))    \n",
    "    \n",
    "X_submission_tfidf = tfidf_transformer.transform(X_submission_counts)\n",
    "prediction_sgc = sgc.predict(X_submission_tfidf)\n"
   ]
  },
  {
   "cell_type": "code",
   "execution_count": 28,
   "metadata": {},
   "outputs": [
    {
     "name": "stdout",
     "output_type": "stream",
     "text": [
      "Submission file created: submission_06_14_2018-14_41_45.csv\n",
      "Upload it to Kaggle InClass\n"
     ]
    }
   ],
   "source": [
    "create_submit_file(df0_s, prediction_sgc)"
   ]
  },
  {
   "cell_type": "code",
   "execution_count": 29,
   "metadata": {},
   "outputs": [
    {
     "name": "stdout",
     "output_type": "stream",
     "text": [
      "No accuracy computed beacuse there is NO test target\n"
     ]
    }
   ],
   "source": [
    "predicted, x_train, y_train, x_test, y_test, acc = load_and_train(df1, SGDClassifier, test=df1_s, penalty='elasticnet', max_iter=10)"
   ]
  },
  {
   "cell_type": "code",
   "execution_count": 30,
   "metadata": {},
   "outputs": [
    {
     "name": "stdout",
     "output_type": "stream",
     "text": [
      "Submission file created: submission_06_14_2018-14_41_48.csv\n",
      "Upload it to Kaggle InClass\n"
     ]
    }
   ],
   "source": [
    "create_submit_file(df0_s, predicted)"
   ]
  },
  {
   "cell_type": "markdown",
   "metadata": {},
   "source": [
    "# Confusion matrix"
   ]
  },
  {
   "cell_type": "code",
   "execution_count": 23,
   "metadata": {},
   "outputs": [
    {
     "name": "stdout",
     "output_type": "stream",
     "text": [
      "classification accuracy: 0.667315175097\n"
     ]
    },
    {
     "data": {
      "image/png": "[encoded data removed]",
      "text/plain": [
       "<matplotlib.figure.Figure at 0x7fdc483c1320>"
      ]
     },
     "metadata": {},
     "output_type": "display_data"
    },
    {
     "name": "stdout",
     "output_type": "stream",
     "text": [
      "             precision    recall  f1-score   support\n",
      "\n",
      "   negative       0.68      0.87      0.77       753\n",
      "    neutral       0.65      0.53      0.58       521\n",
      "   positive       0.63      0.35      0.45       268\n",
      "\n",
      "avg / total       0.66      0.67      0.65      1542\n",
      "\n"
     ]
    }
   ],
   "source": [
    "def plot_confusion_matrix(y, y_pred):\n",
    "    plt.imshow(metrics.confusion_matrix(y, y_pred),\n",
    "               cmap='inferno', interpolation='nearest')\n",
    "    plt.colorbar()\n",
    "    plt.ylabel('true value')\n",
    "    plt.xlabel('predicted value')\n",
    "    plt.show()\n",
    "    \n",
    "print (\"classification accuracy:\", metrics.accuracy_score(label_test, y_test_prediction))\n",
    "plot_confusion_matrix(label_test, y_test_prediction)\n",
    "print(metrics.classification_report(label_test,y_test_prediction))"
   ]
  },
  {
   "cell_type": "markdown",
   "metadata": {},
   "source": [
    "We label well the negatives, but still label many neutral as negatives."
   ]
  },
  {
   "cell_type": "code",
   "execution_count": 24,
   "metadata": {},
   "outputs": [
    {
     "data": {
      "text/html": [
       "<div>\n",
       "<style>\n",
       "    .dataframe thead tr:only-child th {\n",
       "        text-align: right;\n",
       "    }\n",
       "\n",
       "    .dataframe thead th {\n",
       "        text-align: left;\n",
       "    }\n",
       "\n",
       "    .dataframe tbody tr th {\n",
       "        vertical-align: top;\n",
       "    }\n",
       "</style>\n",
       "<table border=\"1\" class=\"dataframe\">\n",
       "  <thead>\n",
       "    <tr style=\"text-align: right;\">\n",
       "      <th></th>\n",
       "      <th>airline_sentiment</th>\n",
       "      <th>is_reply</th>\n",
       "      <th>reply_count</th>\n",
       "      <th>retweet_count</th>\n",
       "      <th>text</th>\n",
       "      <th>tweet_coord</th>\n",
       "      <th>tweet_created</th>\n",
       "      <th>tweet_location</th>\n",
       "      <th>user_timezone</th>\n",
       "      <th>newairline_sentiment</th>\n",
       "      <th>...</th>\n",
       "      <th>catorce</th>\n",
       "      <th>quince</th>\n",
       "      <th>dieciseis</th>\n",
       "      <th>diecisiete</th>\n",
       "      <th>dieciocho</th>\n",
       "      <th>diecinueve</th>\n",
       "      <th>veinte</th>\n",
       "      <th>veintiuno</th>\n",
       "      <th>veintios</th>\n",
       "      <th>veintitres</th>\n",
       "    </tr>\n",
       "    <tr>\n",
       "      <th>tweet_id</th>\n",
       "      <th></th>\n",
       "      <th></th>\n",
       "      <th></th>\n",
       "      <th></th>\n",
       "      <th></th>\n",
       "      <th></th>\n",
       "      <th></th>\n",
       "      <th></th>\n",
       "      <th></th>\n",
       "      <th></th>\n",
       "      <th></th>\n",
       "      <th></th>\n",
       "      <th></th>\n",
       "      <th></th>\n",
       "      <th></th>\n",
       "      <th></th>\n",
       "      <th></th>\n",
       "      <th></th>\n",
       "      <th></th>\n",
       "      <th></th>\n",
       "      <th></th>\n",
       "    </tr>\n",
       "  </thead>\n",
       "  <tbody>\n",
       "    <tr>\n",
       "      <th>942743012337123328</th>\n",
       "      <td>positive</td>\n",
       "      <td>False</td>\n",
       "      <td>0</td>\n",
       "      <td>0</td>\n",
       "      <td>los pilot de ryan desconvoc la huelg tras ver ...</td>\n",
       "      <td>NaN</td>\n",
       "      <td>2017-12-18 13:07:04</td>\n",
       "      <td>NaN</td>\n",
       "      <td>Dublin</td>\n",
       "      <td>positive</td>\n",
       "      <td>...</td>\n",
       "      <td>NaN</td>\n",
       "      <td>NaN</td>\n",
       "      <td>NaN</td>\n",
       "      <td>NaN</td>\n",
       "      <td>NaN</td>\n",
       "      <td>NaN</td>\n",
       "      <td>NaN</td>\n",
       "      <td>NaN</td>\n",
       "      <td>NaN</td>\n",
       "      <td>NaN</td>\n",
       "    </tr>\n",
       "    <tr>\n",
       "      <th>926857871916183553</th>\n",
       "      <td>positive</td>\n",
       "      <td>True</td>\n",
       "      <td>0</td>\n",
       "      <td>0</td>\n",
       "      <td>si por favor la declar de amor entre los  no ...</td>\n",
       "      <td>NaN</td>\n",
       "      <td>2017-11-04 17:05:11</td>\n",
       "      <td>NaN</td>\n",
       "      <td>NaN</td>\n",
       "      <td>positive</td>\n",
       "      <td>...</td>\n",
       "      <td>NaN</td>\n",
       "      <td>NaN</td>\n",
       "      <td>NaN</td>\n",
       "      <td>NaN</td>\n",
       "      <td>NaN</td>\n",
       "      <td>NaN</td>\n",
       "      <td>NaN</td>\n",
       "      <td>NaN</td>\n",
       "      <td>NaN</td>\n",
       "      <td>NaN</td>\n",
       "    </tr>\n",
       "    <tr>\n",
       "      <th>936979305720090626</th>\n",
       "      <td>neutral</td>\n",
       "      <td>True</td>\n",
       "      <td>0</td>\n",
       "      <td>0</td>\n",
       "      <td>me diri por favor que cost tien</td>\n",
       "      <td>NaN</td>\n",
       "      <td>2017-12-02 15:24:09</td>\n",
       "      <td>NaN</td>\n",
       "      <td>NaN</td>\n",
       "      <td>neutral</td>\n",
       "      <td>...</td>\n",
       "      <td>NaN</td>\n",
       "      <td>NaN</td>\n",
       "      <td>NaN</td>\n",
       "      <td>NaN</td>\n",
       "      <td>NaN</td>\n",
       "      <td>NaN</td>\n",
       "      <td>NaN</td>\n",
       "      <td>NaN</td>\n",
       "      <td>NaN</td>\n",
       "      <td>NaN</td>\n",
       "    </tr>\n",
       "    <tr>\n",
       "      <th>943983853802328064</th>\n",
       "      <td>negative</td>\n",
       "      <td>True</td>\n",
       "      <td>0</td>\n",
       "      <td>0</td>\n",
       "      <td>champion no vuel ma con esos descar</td>\n",
       "      <td>NaN</td>\n",
       "      <td>2017-12-21 23:17:43</td>\n",
       "      <td>NaN</td>\n",
       "      <td>Central Time (US &amp; Canada)</td>\n",
       "      <td>negative</td>\n",
       "      <td>...</td>\n",
       "      <td>NaN</td>\n",
       "      <td>NaN</td>\n",
       "      <td>NaN</td>\n",
       "      <td>NaN</td>\n",
       "      <td>NaN</td>\n",
       "      <td>NaN</td>\n",
       "      <td>NaN</td>\n",
       "      <td>NaN</td>\n",
       "      <td>NaN</td>\n",
       "      <td>NaN</td>\n",
       "    </tr>\n",
       "    <tr>\n",
       "      <th>938207464457211904</th>\n",
       "      <td>negative</td>\n",
       "      <td>True</td>\n",
       "      <td>0</td>\n",
       "      <td>0</td>\n",
       "      <td>eso de anca e verd  mi mam le pa do vec terri...</td>\n",
       "      <td>NaN</td>\n",
       "      <td>2017-12-06 00:44:25</td>\n",
       "      <td>NaN</td>\n",
       "      <td>Eastern Time (US &amp; Canada)</td>\n",
       "      <td>negative</td>\n",
       "      <td>...</td>\n",
       "      <td>NaN</td>\n",
       "      <td>NaN</td>\n",
       "      <td>NaN</td>\n",
       "      <td>NaN</td>\n",
       "      <td>NaN</td>\n",
       "      <td>NaN</td>\n",
       "      <td>NaN</td>\n",
       "      <td>NaN</td>\n",
       "      <td>NaN</td>\n",
       "      <td>NaN</td>\n",
       "    </tr>\n",
       "  </tbody>\n",
       "</table>\n",
       "<p>5 rows × 35 columns</p>\n",
       "</div>"
      ],
      "text/plain": [
       "                   airline_sentiment  is_reply  reply_count  retweet_count  \\\n",
       "tweet_id                                                                     \n",
       "942743012337123328          positive     False            0              0   \n",
       "926857871916183553          positive      True            0              0   \n",
       "936979305720090626           neutral      True            0              0   \n",
       "943983853802328064          negative      True            0              0   \n",
       "938207464457211904          negative      True            0              0   \n",
       "\n",
       "                                                                 text  \\\n",
       "tweet_id                                                                \n",
       "942743012337123328  los pilot de ryan desconvoc la huelg tras ver ...   \n",
       "926857871916183553   si por favor la declar de amor entre los  no ...   \n",
       "936979305720090626                    me diri por favor que cost tien   \n",
       "943983853802328064                champion no vuel ma con esos descar   \n",
       "938207464457211904   eso de anca e verd  mi mam le pa do vec terri...   \n",
       "\n",
       "                   tweet_coord       tweet_created tweet_location  \\\n",
       "tweet_id                                                            \n",
       "942743012337123328         NaN 2017-12-18 13:07:04            NaN   \n",
       "926857871916183553         NaN 2017-11-04 17:05:11            NaN   \n",
       "936979305720090626         NaN 2017-12-02 15:24:09            NaN   \n",
       "943983853802328064         NaN 2017-12-21 23:17:43            NaN   \n",
       "938207464457211904         NaN 2017-12-06 00:44:25            NaN   \n",
       "\n",
       "                                 user_timezone newairline_sentiment  \\\n",
       "tweet_id                                                              \n",
       "942743012337123328                      Dublin             positive   \n",
       "926857871916183553                         NaN             positive   \n",
       "936979305720090626                         NaN              neutral   \n",
       "943983853802328064  Central Time (US & Canada)             negative   \n",
       "938207464457211904  Eastern Time (US & Canada)             negative   \n",
       "\n",
       "                       ...      catorce  quince  dieciseis  diecisiete  \\\n",
       "tweet_id               ...                                               \n",
       "942743012337123328     ...          NaN     NaN        NaN         NaN   \n",
       "926857871916183553     ...          NaN     NaN        NaN         NaN   \n",
       "936979305720090626     ...          NaN     NaN        NaN         NaN   \n",
       "943983853802328064     ...          NaN     NaN        NaN         NaN   \n",
       "938207464457211904     ...          NaN     NaN        NaN         NaN   \n",
       "\n",
       "                    dieciocho  diecinueve  veinte  veintiuno  veintios  \\\n",
       "tweet_id                                                                 \n",
       "942743012337123328        NaN         NaN     NaN        NaN       NaN   \n",
       "926857871916183553        NaN         NaN     NaN        NaN       NaN   \n",
       "936979305720090626        NaN         NaN     NaN        NaN       NaN   \n",
       "943983853802328064        NaN         NaN     NaN        NaN       NaN   \n",
       "938207464457211904        NaN         NaN     NaN        NaN       NaN   \n",
       "\n",
       "                    veintitres  \n",
       "tweet_id                        \n",
       "942743012337123328         NaN  \n",
       "926857871916183553         NaN  \n",
       "936979305720090626         NaN  \n",
       "943983853802328064         NaN  \n",
       "938207464457211904         NaN  \n",
       "\n",
       "[5 rows x 35 columns]"
      ]
     },
     "execution_count": 24,
     "metadata": {},
     "output_type": "execute_result"
    }
   ],
   "source": [
    "df1.head()"
   ]
  },
  {
   "cell_type": "code",
   "execution_count": null,
   "metadata": {
    "collapsed": true
   },
   "outputs": [],
   "source": []
  }
 ],
 "metadata": {
  "kernelspec": {
   "display_name": "Python 3",
   "language": "python",
   "name": "python3"
  },
  "language_info": {
   "codemirror_mode": {
    "name": "ipython",
    "version": 3
   },
   "file_extension": ".py",
   "mimetype": "text/x-python",
   "name": "python",
   "nbconvert_exporter": "python",
   "pygments_lexer": "ipython3",
   "version": "3.6.3"
  }
 },
 "nbformat": 4,
 "nbformat_minor": 2
}
