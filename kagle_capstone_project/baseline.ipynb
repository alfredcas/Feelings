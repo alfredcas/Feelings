{
 "cells": [
  {
   "cell_type": "markdown",
   "metadata": {},
   "source": [
    "# Baseline model\n",
    "\n",
    "This is the entrypoint for the competition, it:\n",
    "\n",
    "* Reads data from tweets' CSV files\n",
    "* Computes Bag of Words (BoW) from textual representations (tweets text)\n",
    "* Tests two models to find out which performs better\n",
    "* Predicts classes for the submission/benchmark tweets\n",
    "* Generates a suitable CSV for Kaggle InClass"
   ]
  },
  {
   "cell_type": "markdown",
   "metadata": {},
   "source": [
    "## Data representation\n",
    "\n",
    "The function `obtain_data_representation` performs the BoW transformation over the training set and applies it to both the train and test set.\n",
    "\n",
    "If no test set is provided, the input DataFrame is split into both train and test, 75% and 25% of the data respectively. This is done so as to be able to obtain an accuracy score, which will be the evaluation metric on Kaggle.\n",
    "\n",
    "BoW is computed through `CountVectorizer` class of `sklearn`, restricting it to at most 200 features. The process of finding the best words is done by the `fit` method, whereas transforming the text to numerical vectors (using the learnt features) is done by `transform`. Lastly, `fit_transform` does in a single step the learning and transforming process."
   ]
  },
  {
   "cell_type": "code",
   "execution_count": 49,
   "metadata": {},
   "outputs": [],
   "source": [
    "from sklearn.feature_extraction.text import CountVectorizer\n",
    "from sklearn.model_selection import train_test_split\n",
    "\n",
    "\n",
    "def obtain_data_representation(df, test=None):\n",
    "    # If there is no test data, split the input\n",
    "    if test is None:\n",
    "        # Divide data in train and test\n",
    "        train, test = train_test_split(df, test_size=0.25)\n",
    "        df.airline_sentiment = pd.Categorical(df.airline_sentiment)\n",
    "    else:\n",
    "        # Otherwise, all is train\n",
    "        train = df\n",
    "    \n",
    "    mylist = ['the', 'a', 'got', 'of', 'is', 'are', 'we', 'you', 'I', 'me', 'them']\n",
    "    # Create a Bag of Words (BoW), by using train data only\n",
    "#    cv = CountVectorizer(max_features=200, stop_words=mylist)\n",
    "    cv = CountVectorizer(max_features=200, ngram_range=(1,2), token_pattern=r'\\b\\w+\\b', min_df=1)\n",
    "\n",
    "    x_train = cv.fit_transform(train['text'])\n",
    "    \n",
    "    y_train = train['airline_sentiment'].values\n",
    "        \n",
    "    print(cv.vocabulary_)\n",
    "    #print(cv.stop_words_)\n",
    "    \n",
    "    # Obtain BoW for the test data, using the previously fitted one\n",
    "    x_test = cv.transform(test['text'])\n",
    "    try:\n",
    "        y_test = test['airline_sentiment'].values\n",
    "    except:\n",
    "        # It might be the submision file, where we don't have target values\n",
    "        y_test = None\n",
    "        \n",
    "    return {\n",
    "        'train': {\n",
    "            'x': x_train,\n",
    "            'y': y_train\n",
    "        },\n",
    "        'test': {\n",
    "            'x': x_test,\n",
    "            'y': y_test\n",
    "        }\n",
    "    }"
   ]
  },
  {
   "cell_type": "markdown",
   "metadata": {},
   "source": [
    "## Model training\n",
    "\n",
    "Thought this function might seem strange at first, the only thing to know is that training an `sklearn` model is always done the same way:\n",
    "\n",
    "```python\n",
    "# 1. Create the model\n",
    "model = BernoulliNB()\n",
    "\n",
    "# 2. Train with some data, where `x` are features and\n",
    "#    `y` is the target category\n",
    "model.fit(x, y)\n",
    "\n",
    "# 3. Predict new categories for test data (with which we\n",
    "#    have not trained!)\n",
    "y_pred = model.predict(test_x)\n",
    "```\n",
    "\n",
    "We might also obtain the accuracy score by using the function `accuracy_score`"
   ]
  },
  {
   "cell_type": "code",
   "execution_count": 50,
   "metadata": {},
   "outputs": [],
   "source": [
    "from sklearn.metrics import accuracy_score\n",
    "\n",
    "def train_model(dataset, dmodel, *model_args, **model_kwargs):\n",
    "    # Create a Naive Bayes model\n",
    "    model = dmodel(*model_args, **model_kwargs)\n",
    "    \n",
    "    # Train it\n",
    "    model.fit(dataset['train']['x'], dataset['train']['y'])\n",
    "    \n",
    "    # Predict new values for test\n",
    "    y_pred = model.predict(dataset['test']['x'])\n",
    "    \n",
    "    # Print accuracy score unless its the submission dataset\n",
    "    if dataset['test']['y'] is not None:\n",
    "        score = accuracy_score(dataset['test']['y'], y_pred)\n",
    "        print(\"Model score is: {}\".format(score))\n",
    "\n",
    "    # Done\n",
    "    return model, y_pred"
   ]
  },
  {
   "cell_type": "code",
   "execution_count": 51,
   "metadata": {},
   "outputs": [
    {
     "name": "stdout",
     "output_type": "stream",
     "text": [
      "{'americanair': 15, 'us': 176, '1': 0, 'jetblue': 97, 'our': 128, 's': 138, 'on': 122, 'http': 83, 't': 146, 'co': 42, 'http t': 84, 't co': 147, 'southwestair': 143, 'i': 85, 'did': 48, 'get': 65, 'but': 32, 'that': 153, 'flight': 55, 'cancelled': 38, 'flightled': 56, 'to': 163, 'up': 175, 'cancelled flightled': 39, 'usairways': 177, 'any': 22, 'from': 63, 'been': 31, 'at': 25, 'gate': 64, 'for': 60, '2': 1, 'hours': 81, 'thanks': 151, 'is': 94, 'there': 157, 'a': 5, 'or': 127, 'not': 117, 'should': 141, 'just': 98, 'virginamerica': 181, 'the': 154, 'don': 51, 'you': 197, 'guys': 72, 'more': 110, 'never': 115, 'flying': 59, 'with': 195, 'again': 9, 'don t': 52, 'you guys': 198, 'united': 173, 'it': 95, 'had': 73, 'of': 120, 'time': 162, 'go': 67, 'and': 19, 'check': 41, 'my': 111, 'have': 75, 'to the': 166, 'this': 159, 'we': 188, 'can': 35, 'do': 50, 'in': 92, 'thanks for': 152, 'in the': 93, 'why': 193, 'when': 192, 'will': 194, 'be': 29, 'back': 26, 'me': 108, 'to be': 164, 'your': 199, 'bag': 27, 'u': 172, 'great': 71, 'airport': 12, 'tomorrow': 169, 'am': 14, 'can t': 36, 'for a': 61, 'a flight': 6, 'no': 116, 'help': 76, 'all': 13, 'take': 148, '3': 2, '4': 3, 'and i': 20, 'i have': 87, 'very': 180, 'here': 77, 'please': 135, 'customer': 43, 'service': 140, 'customer service': 44, 'as': 24, 'now': 118, 'got': 70, 'because': 30, 'ticket': 161, 'were': 190, 'i can': 86, 'are': 23, 'what': 191, 'told': 168, 'plane': 134, 'then': 156, 'change': 40, 'one': 125, 're': 136, 'getting': 66, 'so': 142, 'wait': 183, 'minutes': 109, 'number': 119, 'them': 155, 'call': 34, 'usairways i': 178, 'on the': 124, 'trying': 170, 'day': 45, 'trying to': 171, 'dm': 49, 'm': 106, 'i m': 88, 'really': 137, 'hour': 80, 'delay': 46, 'an': 18, 've': 179, 'was': 186, 'first': 54, 'last': 100, 'i ve': 89, 'united i': 174, 'would': 196, 'way': 187, 'flights': 57, 'need': 113, 'southwestair i': 144, 'they': 158, 'want': 185, 'my flight': 112, 'if': 91, 'phone': 133, 'after': 8, 'know': 99, 'thank': 149, 'thank you': 150, 'only': 126, 'it s': 96, 'i was': 90, 'amp': 17, 'out': 129, 'for the': 62, 'to get': 165, 'bags': 28, 'over': 131, 'weather': 189, 'off': 121, 'by': 33, 'luggage': 105, 'agent': 10, 'americanair i': 16, 'has': 74, 'delayed': 47, 'another': 21, 'make': 107, 'about': 7, 'like': 103, 'airline': 11, 'people': 132, 'going': 68, 'let': 102, 'out of': 130, 'hold': 78, 'on hold': 123, 'can you': 37, 'waiting': 184, 'still': 145, 'w': 182, 'll': 104, 'need to': 114, 'how': 82, 'even': 53, 'today': 167, 'fly': 58, 'this is': 160, 'home': 79, '5': 4, 'late': 101, 'good': 69, 'seat': 139}\n",
      "Model score is: 0.7122040072859745\n",
      "Model score is: 0.5915300546448088\n"
     ]
    }
   ],
   "source": [
    "import pandas as pd\n",
    "from sklearn.naive_bayes import BernoulliNB\n",
    "from sklearn.neighbors import KNeighborsClassifier\n",
    "\n",
    "\n",
    "df = pd.read_csv('tweets_public.csv', index_col='tweet_id')\n",
    "dataset = obtain_data_representation(df)\n",
    "\n",
    "#print(df)\n",
    "#print(dataset['train']['x'])\n",
    "\n",
    "# Train a Bernoulli Naive Bayes\n",
    "modelNB, _ = train_model(dataset, BernoulliNB)\n",
    "\n",
    "# Train a K Nearest Neighbors Classifier\n",
    "modelKN, _ = train_model(dataset, KNeighborsClassifier)"
   ]
  },
  {
   "cell_type": "markdown",
   "metadata": {},
   "source": [
    "## Submit file\n",
    "\n",
    "Once we have found the best model (BernoulliNB for the above simple test), we can train it with all the data (that is, avoid doing a train/test split) and predict sentiments for the real submission data.\n",
    "\n",
    "This cell below performs exactly this."
   ]
  },
  {
   "cell_type": "code",
   "execution_count": 4,
   "metadata": {},
   "outputs": [
    {
     "name": "stdout",
     "output_type": "stream",
     "text": [
      "Submission file created: submission_11_14_2017-18_57_46.csv\n",
      "Upload it to Kaggle InClass\n"
     ]
    }
   ],
   "source": [
    "import datetime\n",
    "\n",
    "def create_submit_file(df_submission, ypred):\n",
    "    date = datetime.datetime.now().strftime(\"%m_%d_%Y-%H_%M_%S\")\n",
    "    filename = 'submission_' + date + '.csv'\n",
    "    \n",
    "    df_submission['airline_sentiment'] = ypred\n",
    "    df_submission[['airline_sentiment']].to_csv(filename)\n",
    "    \n",
    "    print('Submission file created: {}'.format(filename))\n",
    "    print('Upload it to Kaggle InClass')\n",
    "\n",
    "    \n",
    "# Read submission and retrain with whole data\n",
    "df_submission = pd.read_csv('tweets_submission.csv', index_col='tweet_id')\n",
    "# We use df_submision as test, otherwise it would split df in train/test\n",
    "submission_dataset = obtain_data_representation(df, df_submission)\n",
    "# Predict for df_submission\n",
    "_, y_pred = train_model(submission_dataset, BernoulliNB)\n",
    "\n",
    "# Create submission file with obtained y_pred\n",
    "create_submit_file(df_submission, y_pred)"
   ]
  },
  {
   "cell_type": "code",
   "execution_count": null,
   "metadata": {},
   "outputs": [],
   "source": []
  }
 ],
 "metadata": {
  "kernelspec": {
   "display_name": "Python 3",
   "language": "python",
   "name": "python3"
  },
  "language_info": {
   "codemirror_mode": {
    "name": "ipython",
    "version": 3
   },
   "file_extension": ".py",
   "mimetype": "text/x-python",
   "name": "python",
   "nbconvert_exporter": "python",
   "pygments_lexer": "ipython3",
   "version": "3.6.3"
  }
 },
 "nbformat": 4,
 "nbformat_minor": 2
}
