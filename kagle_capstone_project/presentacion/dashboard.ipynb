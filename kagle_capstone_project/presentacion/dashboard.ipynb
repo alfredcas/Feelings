{
 "cells": [
  {
   "cell_type": "markdown",
   "metadata": {},
   "source": [
    "### Library import and code configuration"
   ]
  },
  {
   "cell_type": "code",
   "execution_count": 1,
   "metadata": {},
   "outputs": [],
   "source": [
    "import numpy as np\n",
    "import pandas as pd\n",
    "from bokeh.plotting import figure, show, output_file, save\n",
    "from bokeh.models import ColumnDataSource, Circle, Label, FactorRange\n",
    "from bokeh.models.widgets import DataTable, DateFormatter, TableColumn\n",
    "from bokeh.tile_providers import STAMEN_TONER\n",
    "from bokeh.layouts import gridplot, row, column, widgetbox\n",
    "from pyproj import Proj, transform\n",
    "from math import pi"
   ]
  },
  {
   "cell_type": "code",
   "execution_count": 2,
   "metadata": {},
   "outputs": [],
   "source": [
    "pd.options.display.float_format = '{:.2f}'.format"
   ]
  },
  {
   "cell_type": "markdown",
   "metadata": {},
   "source": [
    "### Dataframe"
   ]
  },
  {
   "cell_type": "code",
   "execution_count": 3,
   "metadata": {},
   "outputs": [],
   "source": [
    "file = '/media/dedsresende/BackUpDeds/Github_UB/CapstoneProject/Feelings/kagle_capstone_project/presentacion/data/tweets_public.csv'"
   ]
  },
  {
   "cell_type": "code",
   "execution_count": 4,
   "metadata": {},
   "outputs": [
    {
     "data": {
      "text/html": [
       "<div>\n",
       "<style scoped>\n",
       "    .dataframe tbody tr th:only-of-type {\n",
       "        vertical-align: middle;\n",
       "    }\n",
       "\n",
       "    .dataframe tbody tr th {\n",
       "        vertical-align: top;\n",
       "    }\n",
       "\n",
       "    .dataframe thead th {\n",
       "        text-align: right;\n",
       "    }\n",
       "</style>\n",
       "<table border=\"1\" class=\"dataframe\">\n",
       "  <thead>\n",
       "    <tr style=\"text-align: right;\">\n",
       "      <th></th>\n",
       "      <th>tweet_id</th>\n",
       "      <th>airline_sentiment</th>\n",
       "      <th>airline_sentiment_confidence</th>\n",
       "      <th>negativereason</th>\n",
       "      <th>negativereason_confidence</th>\n",
       "      <th>airline</th>\n",
       "      <th>airline_sentiment_gold</th>\n",
       "      <th>name</th>\n",
       "      <th>negativereason_gold</th>\n",
       "      <th>retweet_count</th>\n",
       "      <th>text</th>\n",
       "      <th>tweet_coord</th>\n",
       "      <th>tweet_created</th>\n",
       "      <th>tweet_location</th>\n",
       "      <th>user_timezone</th>\n",
       "    </tr>\n",
       "  </thead>\n",
       "  <tbody>\n",
       "    <tr>\n",
       "      <th>0</th>\n",
       "      <td>569237160886276096</td>\n",
       "      <td>negative</td>\n",
       "      <td>1.00</td>\n",
       "      <td>Can't Tell</td>\n",
       "      <td>0.65</td>\n",
       "      <td>Delta</td>\n",
       "      <td>NaN</td>\n",
       "      <td>venkatesh_cr</td>\n",
       "      <td>NaN</td>\n",
       "      <td>0</td>\n",
       "      <td>@JetBlue I've been in pricing for 8 years to k...</td>\n",
       "      <td>NaN</td>\n",
       "      <td>2015-02-21 12:48:09 -0800</td>\n",
       "      <td>Austin Texas</td>\n",
       "      <td>Central Time (US &amp; Canada)</td>\n",
       "    </tr>\n",
       "    <tr>\n",
       "      <th>1</th>\n",
       "      <td>569267194028298241</td>\n",
       "      <td>negative</td>\n",
       "      <td>1.00</td>\n",
       "      <td>Customer Service Issue</td>\n",
       "      <td>1.00</td>\n",
       "      <td>Southwest</td>\n",
       "      <td>NaN</td>\n",
       "      <td>ChristineFlores</td>\n",
       "      <td>NaN</td>\n",
       "      <td>0</td>\n",
       "      <td>@SouthwestAir AH - did DM, no reply. On hold n...</td>\n",
       "      <td>NaN</td>\n",
       "      <td>2015-02-21 14:47:30 -0800</td>\n",
       "      <td>NaN</td>\n",
       "      <td>Central Time (US &amp; Canada)</td>\n",
       "    </tr>\n",
       "    <tr>\n",
       "      <th>2</th>\n",
       "      <td>569506670189137920</td>\n",
       "      <td>negative</td>\n",
       "      <td>0.65</td>\n",
       "      <td>Lost Luggage</td>\n",
       "      <td>0.65</td>\n",
       "      <td>United</td>\n",
       "      <td>NaN</td>\n",
       "      <td>szymanski_t</td>\n",
       "      <td>NaN</td>\n",
       "      <td>0</td>\n",
       "      <td>@united if you lost my belongings then BE HONEST!</td>\n",
       "      <td>NaN</td>\n",
       "      <td>2015-02-22 06:39:05 -0800</td>\n",
       "      <td>NaN</td>\n",
       "      <td>Eastern Time (US &amp; Canada)</td>\n",
       "    </tr>\n",
       "    <tr>\n",
       "      <th>3</th>\n",
       "      <td>570293957739081728</td>\n",
       "      <td>negative</td>\n",
       "      <td>1.00</td>\n",
       "      <td>Customer Service Issue</td>\n",
       "      <td>1.00</td>\n",
       "      <td>United</td>\n",
       "      <td>NaN</td>\n",
       "      <td>nate2482</td>\n",
       "      <td>NaN</td>\n",
       "      <td>0</td>\n",
       "      <td>@United the internet is a great thing.  I am e...</td>\n",
       "      <td>NaN</td>\n",
       "      <td>2015-02-24 10:47:29 -0800</td>\n",
       "      <td>Parkersburg, WV</td>\n",
       "      <td>Eastern Time (US &amp; Canada)</td>\n",
       "    </tr>\n",
       "    <tr>\n",
       "      <th>4</th>\n",
       "      <td>570212129313316864</td>\n",
       "      <td>neutral</td>\n",
       "      <td>1.00</td>\n",
       "      <td>NaN</td>\n",
       "      <td>nan</td>\n",
       "      <td>Delta</td>\n",
       "      <td>NaN</td>\n",
       "      <td>elias_rubin</td>\n",
       "      <td>NaN</td>\n",
       "      <td>0</td>\n",
       "      <td>@JetBlue I believe that the website said I cou...</td>\n",
       "      <td>NaN</td>\n",
       "      <td>2015-02-24 05:22:20 -0800</td>\n",
       "      <td>New York, NY</td>\n",
       "      <td>Pacific Time (US &amp; Canada)</td>\n",
       "    </tr>\n",
       "  </tbody>\n",
       "</table>\n",
       "</div>"
      ],
      "text/plain": [
       "             tweet_id airline_sentiment  airline_sentiment_confidence  \\\n",
       "0  569237160886276096          negative                          1.00   \n",
       "1  569267194028298241          negative                          1.00   \n",
       "2  569506670189137920          negative                          0.65   \n",
       "3  570293957739081728          negative                          1.00   \n",
       "4  570212129313316864           neutral                          1.00   \n",
       "\n",
       "           negativereason  negativereason_confidence    airline  \\\n",
       "0              Can't Tell                       0.65      Delta   \n",
       "1  Customer Service Issue                       1.00  Southwest   \n",
       "2            Lost Luggage                       0.65     United   \n",
       "3  Customer Service Issue                       1.00     United   \n",
       "4                     NaN                        nan      Delta   \n",
       "\n",
       "  airline_sentiment_gold             name negativereason_gold  retweet_count  \\\n",
       "0                    NaN     venkatesh_cr                 NaN              0   \n",
       "1                    NaN  ChristineFlores                 NaN              0   \n",
       "2                    NaN      szymanski_t                 NaN              0   \n",
       "3                    NaN         nate2482                 NaN              0   \n",
       "4                    NaN      elias_rubin                 NaN              0   \n",
       "\n",
       "                                                text tweet_coord  \\\n",
       "0  @JetBlue I've been in pricing for 8 years to k...         NaN   \n",
       "1  @SouthwestAir AH - did DM, no reply. On hold n...         NaN   \n",
       "2  @united if you lost my belongings then BE HONEST!         NaN   \n",
       "3  @United the internet is a great thing.  I am e...         NaN   \n",
       "4  @JetBlue I believe that the website said I cou...         NaN   \n",
       "\n",
       "               tweet_created   tweet_location               user_timezone  \n",
       "0  2015-02-21 12:48:09 -0800     Austin Texas  Central Time (US & Canada)  \n",
       "1  2015-02-21 14:47:30 -0800              NaN  Central Time (US & Canada)  \n",
       "2  2015-02-22 06:39:05 -0800              NaN  Eastern Time (US & Canada)  \n",
       "3  2015-02-24 10:47:29 -0800  Parkersburg, WV  Eastern Time (US & Canada)  \n",
       "4  2015-02-24 05:22:20 -0800     New York, NY  Pacific Time (US & Canada)  "
      ]
     },
     "execution_count": 4,
     "metadata": {},
     "output_type": "execute_result"
    }
   ],
   "source": [
    "df = pd.read_csv(file)\n",
    "df.head()"
   ]
  },
  {
   "cell_type": "code",
   "execution_count": 5,
   "metadata": {},
   "outputs": [
    {
     "name": "stdout",
     "output_type": "stream",
     "text": [
      "<class 'pandas.core.frame.DataFrame'>\n",
      "RangeIndex: 8784 entries, 0 to 8783\n",
      "Data columns (total 15 columns):\n",
      "tweet_id                        8784 non-null int64\n",
      "airline_sentiment               8784 non-null object\n",
      "airline_sentiment_confidence    8784 non-null float64\n",
      "negativereason                  5531 non-null object\n",
      "negativereason_confidence       6325 non-null float64\n",
      "airline                         8784 non-null object\n",
      "airline_sentiment_gold          24 non-null object\n",
      "name                            8784 non-null object\n",
      "negativereason_gold             20 non-null object\n",
      "retweet_count                   8784 non-null int64\n",
      "text                            8784 non-null object\n",
      "tweet_coord                     608 non-null object\n",
      "tweet_created                   8784 non-null object\n",
      "tweet_location                  5936 non-null object\n",
      "user_timezone                   5973 non-null object\n",
      "dtypes: float64(2), int64(2), object(11)\n",
      "memory usage: 1.0+ MB\n"
     ]
    }
   ],
   "source": [
    "df.info()"
   ]
  },
  {
   "cell_type": "code",
   "execution_count": 6,
   "metadata": {},
   "outputs": [],
   "source": [
    "df['tweet_id'] = df['tweet_id'].astype('category')\n",
    "df['airline_sentiment'] = df['airline_sentiment'].astype('category')\n",
    "df['airline_sentiment_confidence'] = df['airline_sentiment_confidence'].astype('float64')\n",
    "df['negativereason'] = df['negativereason'].astype('category')\n",
    "df['negativereason_confidence'] = df['negativereason_confidence'].astype('float64')\n",
    "df['airline'] = df['airline'].astype('category')\n",
    "df['airline_sentiment_gold'] = df['airline_sentiment_gold'].astype('category')\n",
    "df['name'] = df['name'].astype('category')\n",
    "df['negativereason_gold'] = df['negativereason_gold'].astype('category')\n",
    "df['retweet_count'] = df['retweet_count'].astype('int64')\n",
    "df['text'] = df['text'].astype('str')\n",
    "df['tweet_coord'] = df['tweet_coord'].astype('str')\n",
    "df['tweet_created'] = pd.to_datetime(df['tweet_created'])\n",
    "df['tweet_location'] = df['tweet_location'].astype('category')\n",
    "df['user_timezone'] = df['user_timezone'].astype('category')"
   ]
  },
  {
   "cell_type": "code",
   "execution_count": 7,
   "metadata": {},
   "outputs": [],
   "source": [
    "df['lat'] = df['tweet_coord'].apply(lambda x: np.nan if x == 'nan' else float((x.replace('[',' ').replace(']',' ').replace(' ','').split(','))[0]))\n",
    "df['lon'] = df['tweet_coord'].apply(lambda x: np.nan if x == 'nan' else float((x.replace('[',' ').replace(']',' ').replace(' ','').split(','))[1]))"
   ]
  },
  {
   "cell_type": "code",
   "execution_count": 8,
   "metadata": {},
   "outputs": [],
   "source": [
    "df['lon3857'] = [transform(Proj(init='epsg:4326'), Proj(init='epsg:3857'), row['lon'], row['lat'])[0] for index, row in df.iterrows()]\n",
    "df['lat3857'] = [transform(Proj(init='epsg:4326'), Proj(init='epsg:3857'), row['lon'], row['lat'])[1] for index, row in df.iterrows()]"
   ]
  },
  {
   "cell_type": "markdown",
   "metadata": {},
   "source": [
    "### Dashboard"
   ]
  },
  {
   "cell_type": "markdown",
   "metadata": {},
   "source": [
    "Colors"
   ]
  },
  {
   "cell_type": "code",
   "execution_count": 9,
   "metadata": {},
   "outputs": [],
   "source": [
    "rd = '#E4523B'\n",
    "dkbl = '#0A454D'\n",
    "ltbl = '#3DB296'\n",
    "ltyl = '#ECC417'\n",
    "dkyl = '#E8931E'\n",
    "cz = '#969696'"
   ]
  },
  {
   "cell_type": "code",
   "execution_count": 10,
   "metadata": {},
   "outputs": [],
   "source": [
    "colors = {'negative':rd, 'positive':ltbl, 'neutral':cz}\n",
    "df['sent_colors'] = df['airline_sentiment'].map(colors)"
   ]
  },
  {
   "cell_type": "markdown",
   "metadata": {},
   "source": [
    "Control configs"
   ]
  },
  {
   "cell_type": "code",
   "execution_count": 11,
   "metadata": {},
   "outputs": [],
   "source": [
    "TOOLS = \"tap,box_select,lasso_select,pan,wheel_zoom,box_zoom,reset\""
   ]
  },
  {
   "cell_type": "markdown",
   "metadata": {},
   "source": [
    "Labels"
   ]
  },
  {
   "cell_type": "code",
   "execution_count": 12,
   "metadata": {},
   "outputs": [],
   "source": [
    "tltPlot = figure(x_range=(1, 9), y_range=(20, 100), plot_width=1200, plot_height=100)\n",
    "tltPlot.xgrid.visible = False\n",
    "tltPlot.ygrid.visible = False\n",
    "tltPlot.axis.visible = False\n",
    "tltPlot.outline_line_color = None\n",
    "\n",
    "label = Label(x=1, y=25, text='Capstone Project: Feelings', text_font_size='36pt', text_color='black')\n",
    "\n",
    "\n",
    "tltPlot.add_layout(label)"
   ]
  },
  {
   "cell_type": "code",
   "execution_count": 13,
   "metadata": {},
   "outputs": [],
   "source": [
    "lblPlot1 = figure(x_range=(1, 9), y_range=(20, 100), plot_width=400, plot_height=100, title = 'Negative tweets')\n",
    "lblPlot1.xgrid.visible = False\n",
    "lblPlot1.ygrid.visible = False\n",
    "lblPlot1.axis.visible = False\n",
    "lblPlot1.title.text_color = \"black\"\n",
    "lblPlot1.outline_line_color = None\n",
    "\n",
    "label1 = Label(x=1, y=18, text=str(df[df['airline_sentiment']=='negative']['airline_sentiment'].size), text_font_size='36pt', text_color=rd)\n",
    "\n",
    "\n",
    "lblPlot1.add_layout(label1)"
   ]
  },
  {
   "cell_type": "code",
   "execution_count": 14,
   "metadata": {},
   "outputs": [],
   "source": [
    "lblPlot2 = figure(x_range=(1, 9), y_range=(20, 100), plot_width=400, plot_height=100, title = 'Positive tweets')\n",
    "lblPlot2.xgrid.visible = False\n",
    "lblPlot2.ygrid.visible = False\n",
    "lblPlot2.axis.visible = False\n",
    "lblPlot2.title.text_color = \"black\"\n",
    "lblPlot2.outline_line_color = None\n",
    "\n",
    "label2 = Label(x=1, y=18, text=str(df[df['airline_sentiment']=='positive']['airline_sentiment'].size), text_font_size='36pt', text_color=ltbl)\n",
    "\n",
    "lblPlot2.add_layout(label2)"
   ]
  },
  {
   "cell_type": "code",
   "execution_count": 15,
   "metadata": {},
   "outputs": [],
   "source": [
    "lblPlot3 = figure(x_range=(1, 9), y_range=(20, 100), plot_width=400, plot_height=100, title = 'Neutral tweets')\n",
    "lblPlot3.xgrid.visible = False\n",
    "lblPlot3.ygrid.visible = False\n",
    "lblPlot3.axis.visible = False\n",
    "lblPlot3.title.text_color = \"black\"\n",
    "lblPlot3.outline_line_color = None\n",
    "\n",
    "label3 = Label(x=1, y=18, text=str(df[df['airline_sentiment']=='neutral']['airline_sentiment'].size), text_font_size='36pt', text_color=cz)\n",
    "\n",
    "lblPlot3.add_layout(label3)"
   ]
  },
  {
   "cell_type": "markdown",
   "metadata": {},
   "source": [
    "Map configs"
   ]
  },
  {
   "cell_type": "code",
   "execution_count": 16,
   "metadata": {},
   "outputs": [],
   "source": [
    "plotMapBase = figure(\n",
    "    x_range=(df['lon3857'].min()-2500000, df['lon3857'].max()+2500000),\n",
    "    y_range=(df['lat3857'].min()-2500000, df['lat3857'].max()+2500000),\n",
    "    plot_width=1200,\n",
    "    plot_height=600,\n",
    "    tools = TOOLS,\n",
    "    title = 'Where are the tweets comming from'\n",
    ")\n",
    "\n",
    "plotMapBase.title.text_color = \"black\"\n",
    "plotMapBase.add_tile(STAMEN_TONER)\n",
    "plotMapBase.xgrid.visible = False\n",
    "plotMapBase.ygrid.visible = False\n",
    "plotMapBase.axis.visible = False"
   ]
  },
  {
   "cell_type": "markdown",
   "metadata": {},
   "source": [
    "Data sources"
   ]
  },
  {
   "cell_type": "code",
   "execution_count": 17,
   "metadata": {},
   "outputs": [],
   "source": [
    "source = ColumnDataSource(\n",
    "    data = dict(\n",
    "        lat = df['lat3857'],\n",
    "        lng = df['lon3857'],\n",
    "        sent = df['airline_sentiment'],\n",
    "        cl = df['sent_colors']\n",
    "    )\n",
    ")"
   ]
  },
  {
   "cell_type": "markdown",
   "metadata": {},
   "source": [
    "Map markers"
   ]
  },
  {
   "cell_type": "code",
   "execution_count": 18,
   "metadata": {},
   "outputs": [
    {
     "data": {
      "text/html": [
       "<div style=\"display: table;\"><div style=\"display: table-row;\"><div style=\"display: table-cell;\"><b title=\"bokeh.models.renderers.GlyphRenderer\">GlyphRenderer</b>(</div><div style=\"display: table-cell;\">id&nbsp;=&nbsp;'f651d428-8e2c-4ba2-b453-1bb2c0ee271f', <span id=\"36eaaf7a-9aa7-4eba-9773-377c46eeb39b\" style=\"cursor: pointer;\">&hellip;)</span></div></div><div class=\"4d286d99-6dc1-4581-b068-beba3fa481c5\" style=\"display: none;\"><div style=\"display: table-cell;\"></div><div style=\"display: table-cell;\">data_source&nbsp;=&nbsp;ColumnDataSource(id='cb156f7b-4b8f-4082-b842-6d5a39f9ce42', ...),</div></div><div class=\"4d286d99-6dc1-4581-b068-beba3fa481c5\" style=\"display: none;\"><div style=\"display: table-cell;\"></div><div style=\"display: table-cell;\">glyph&nbsp;=&nbsp;Circle(id='82b27e78-39fa-4e37-a49a-f4635ceffde0', ...),</div></div><div class=\"4d286d99-6dc1-4581-b068-beba3fa481c5\" style=\"display: none;\"><div style=\"display: table-cell;\"></div><div style=\"display: table-cell;\">hover_glyph&nbsp;=&nbsp;None,</div></div><div class=\"4d286d99-6dc1-4581-b068-beba3fa481c5\" style=\"display: none;\"><div style=\"display: table-cell;\"></div><div style=\"display: table-cell;\">js_event_callbacks&nbsp;=&nbsp;{},</div></div><div class=\"4d286d99-6dc1-4581-b068-beba3fa481c5\" style=\"display: none;\"><div style=\"display: table-cell;\"></div><div style=\"display: table-cell;\">js_property_callbacks&nbsp;=&nbsp;{},</div></div><div class=\"4d286d99-6dc1-4581-b068-beba3fa481c5\" style=\"display: none;\"><div style=\"display: table-cell;\"></div><div style=\"display: table-cell;\">level&nbsp;=&nbsp;'glyph',</div></div><div class=\"4d286d99-6dc1-4581-b068-beba3fa481c5\" style=\"display: none;\"><div style=\"display: table-cell;\"></div><div style=\"display: table-cell;\">muted&nbsp;=&nbsp;False,</div></div><div class=\"4d286d99-6dc1-4581-b068-beba3fa481c5\" style=\"display: none;\"><div style=\"display: table-cell;\"></div><div style=\"display: table-cell;\">muted_glyph&nbsp;=&nbsp;None,</div></div><div class=\"4d286d99-6dc1-4581-b068-beba3fa481c5\" style=\"display: none;\"><div style=\"display: table-cell;\"></div><div style=\"display: table-cell;\">name&nbsp;=&nbsp;None,</div></div><div class=\"4d286d99-6dc1-4581-b068-beba3fa481c5\" style=\"display: none;\"><div style=\"display: table-cell;\"></div><div style=\"display: table-cell;\">nonselection_glyph&nbsp;=&nbsp;'auto',</div></div><div class=\"4d286d99-6dc1-4581-b068-beba3fa481c5\" style=\"display: none;\"><div style=\"display: table-cell;\"></div><div style=\"display: table-cell;\">selection_glyph&nbsp;=&nbsp;'auto',</div></div><div class=\"4d286d99-6dc1-4581-b068-beba3fa481c5\" style=\"display: none;\"><div style=\"display: table-cell;\"></div><div style=\"display: table-cell;\">subscribed_events&nbsp;=&nbsp;[],</div></div><div class=\"4d286d99-6dc1-4581-b068-beba3fa481c5\" style=\"display: none;\"><div style=\"display: table-cell;\"></div><div style=\"display: table-cell;\">tags&nbsp;=&nbsp;[],</div></div><div class=\"4d286d99-6dc1-4581-b068-beba3fa481c5\" style=\"display: none;\"><div style=\"display: table-cell;\"></div><div style=\"display: table-cell;\">view&nbsp;=&nbsp;CDSView(id='2c62e067-b4d3-4d18-8079-c6e126a878c7', ...),</div></div><div class=\"4d286d99-6dc1-4581-b068-beba3fa481c5\" style=\"display: none;\"><div style=\"display: table-cell;\"></div><div style=\"display: table-cell;\">visible&nbsp;=&nbsp;True,</div></div><div class=\"4d286d99-6dc1-4581-b068-beba3fa481c5\" style=\"display: none;\"><div style=\"display: table-cell;\"></div><div style=\"display: table-cell;\">x_range_name&nbsp;=&nbsp;'default',</div></div><div class=\"4d286d99-6dc1-4581-b068-beba3fa481c5\" style=\"display: none;\"><div style=\"display: table-cell;\"></div><div style=\"display: table-cell;\">y_range_name&nbsp;=&nbsp;'default')</div></div></div>\n",
       "<script>\n",
       "(function() {\n",
       "  var expanded = false;\n",
       "  var ellipsis = document.getElementById(\"36eaaf7a-9aa7-4eba-9773-377c46eeb39b\");\n",
       "  ellipsis.addEventListener(\"click\", function() {\n",
       "    var rows = document.getElementsByClassName(\"4d286d99-6dc1-4581-b068-beba3fa481c5\");\n",
       "    for (var i = 0; i < rows.length; i++) {\n",
       "      var el = rows[i];\n",
       "      el.style.display = expanded ? \"none\" : \"table-row\";\n",
       "    }\n",
       "    ellipsis.innerHTML = expanded ? \"&hellip;)\" : \"&lsaquo;&lsaquo;&lsaquo;\";\n",
       "    expanded = !expanded;\n",
       "  });\n",
       "})();\n",
       "</script>\n"
      ],
      "text/plain": [
       "GlyphRenderer(id='f651d428-8e2c-4ba2-b453-1bb2c0ee271f', ...)"
      ]
     },
     "execution_count": 18,
     "metadata": {},
     "output_type": "execute_result"
    }
   ],
   "source": [
    "mapMarker = Circle(x='lng', y='lat', size=5, fill_color='cl', fill_alpha=0.5, line_color='cl')\n",
    "plotMapBase.add_glyph(source, mapMarker)"
   ]
  },
  {
   "cell_type": "markdown",
   "metadata": {},
   "source": [
    "Bar chart airlines sentiment"
   ]
  },
  {
   "cell_type": "code",
   "execution_count": 19,
   "metadata": {},
   "outputs": [],
   "source": [
    "dfAirlines = df.groupby(['airline', 'airline_sentiment'])['airline', 'airline_sentiment'].size().reset_index()\n",
    "\n",
    "dfAirlines.columns = ['airline','airline_sentiment','number']\n",
    "\n",
    "dfAirlines['airline'] = dfAirlines['airline'].astype('str')\n",
    "dfAirlines['airline_sentiment'] = dfAirlines['airline_sentiment'].astype('str')\n",
    "\n",
    "dfAirlines['x'] = dfAirlines['airline']+' '+dfAirlines['airline_sentiment']\n",
    "\n",
    "barSource = ColumnDataSource(\n",
    "    data = dict(\n",
    "        x = dfAirlines['x'],\n",
    "        arln = dfAirlines['airline'],\n",
    "        snt = dfAirlines['airline_sentiment'],\n",
    "        n = dfAirlines['number'],\n",
    "        col = dfAirlines['airline_sentiment'].map(colors)\n",
    "    )\n",
    ")"
   ]
  },
  {
   "cell_type": "code",
   "execution_count": 20,
   "metadata": {},
   "outputs": [],
   "source": [
    "barSentiment = figure(x_range=FactorRange(*dfAirlines['x']), plot_height=200, plot_width = 1200, title=\"Sentiment by Airlines\")\n",
    "\n",
    "barSentiment.vbar(x='x', top='n', width=0.9, source=barSource, line_color=\"white\",fill_color='col')\n",
    "\n",
    "barSentiment.y_range.start = 0\n",
    "barSentiment.x_range.range_padding = 0.1\n",
    "barSentiment.xaxis.major_label_orientation = pi/4\n",
    "barSentiment.xgrid.visible = False\n",
    "barSentiment.ygrid.visible = False\n",
    "barSentiment.outline_line_color = None"
   ]
  },
  {
   "cell_type": "markdown",
   "metadata": {},
   "source": [
    "Time line"
   ]
  },
  {
   "cell_type": "code",
   "execution_count": 21,
   "metadata": {},
   "outputs": [],
   "source": [
    "dfDate = df.groupby([df['tweet_created'].dt.date, df['airline_sentiment']]).size().reset_index()\n",
    "dfDate.columns = ['date','airline_sentiment','number']\n",
    "\n",
    "dateSource = ColumnDataSource(\n",
    "    data = dict(\n",
    "        x = dfDate[dfDate['airline_sentiment']=='negative']['date'],\n",
    "        yNeg = dfDate[dfDate['airline_sentiment']=='negative']['number'],\n",
    "        yPos = dfDate[dfDate['airline_sentiment']=='positive']['number'],\n",
    "        yNtr = dfDate[dfDate['airline_sentiment']=='neutral']['number']\n",
    "    )\n",
    ")"
   ]
  },
  {
   "cell_type": "code",
   "execution_count": 22,
   "metadata": {},
   "outputs": [],
   "source": [
    "dateSentiment = figure(x_axis_type=\"datetime\", plot_height=200, plot_width = 600, title=\"Sentiment by time\")\n",
    "\n",
    "dateSentiment.circle('x', 'yNeg', source=dateSource, color=rd)\n",
    "dateSentiment.line('x', 'yNeg', source=dateSource, color=rd)\n",
    "\n",
    "dateSentiment.circle('x', 'yPos', source=dateSource, color=dkbl)\n",
    "dateSentiment.line('x', 'yPos', source=dateSource, color=dkbl)\n",
    "\n",
    "dateSentiment.circle('x', 'yNtr', source=dateSource, color=cz)\n",
    "dateSentiment.line('x', 'yNtr', source=dateSource, color=cz)\n",
    "\n",
    "dateSentiment.xgrid.visible = False\n",
    "dateSentiment.ygrid.visible = False\n",
    "dateSentiment.outline_line_color = None"
   ]
  },
  {
   "cell_type": "code",
   "execution_count": 23,
   "metadata": {},
   "outputs": [],
   "source": [
    "dfHour = df.groupby([df['tweet_created'].dt.hour, df['airline_sentiment']]).size().reset_index()\n",
    "dfHour.columns = ['hour','airline_sentiment','number']\n",
    "\n",
    "hourSource = ColumnDataSource(\n",
    "    data = dict(\n",
    "        x = dfHour[dfHour['airline_sentiment']=='negative']['hour'],\n",
    "        yNeg = dfHour[dfHour['airline_sentiment']=='negative']['number'],\n",
    "        yPos = dfHour[dfHour['airline_sentiment']=='positive']['number'],\n",
    "        yNtr = dfHour[dfHour['airline_sentiment']=='neutral']['number']\n",
    "    )\n",
    ")"
   ]
  },
  {
   "cell_type": "code",
   "execution_count": 24,
   "metadata": {},
   "outputs": [],
   "source": [
    "hourSentiment = figure(x_axis_type=\"datetime\", plot_height=200, plot_width = 600, title=\"Sentiments during the day\")\n",
    "\n",
    "hourSentiment.circle('x', 'yNeg', source=hourSource, color=rd)\n",
    "hourSentiment.line('x', 'yNeg', source=hourSource, color=rd)\n",
    "\n",
    "hourSentiment.circle('x', 'yPos', source=hourSource, color=dkbl)\n",
    "hourSentiment.line('x', 'yPos', source=hourSource, color=dkbl)\n",
    "\n",
    "hourSentiment.circle('x', 'yNtr', source=hourSource, color=cz)\n",
    "hourSentiment.line('x', 'yNtr', source=hourSource, color=cz)\n",
    "\n",
    "hourSentiment.xgrid.visible = False\n",
    "hourSentiment.ygrid.visible = False\n",
    "hourSentiment.outline_line_color = None"
   ]
  },
  {
   "cell_type": "markdown",
   "metadata": {},
   "source": [
    "Plot"
   ]
  },
  {
   "cell_type": "code",
   "execution_count": 26,
   "metadata": {},
   "outputs": [
    {
     "name": "stderr",
     "output_type": "stream",
     "text": [
      "W-1001 (NO_DATA_RENDERERS): Plot has no data renderers: Figure(id='3855b863-5ce6-423c-8669-4d742bdacd5e', ...)\n",
      "W-1001 (NO_DATA_RENDERERS): Plot has no data renderers: Figure(id='90bb4725-0ba3-40dd-9814-24da56dacc3f', ...)\n",
      "W-1001 (NO_DATA_RENDERERS): Plot has no data renderers: Figure(id='9f30295a-6cee-4528-b281-46f440e8c6b0', ...)\n",
      "W-1001 (NO_DATA_RENDERERS): Plot has no data renderers: Figure(id='ba23609b-f653-47ce-b068-9d69e24ae79f', ...)\n"
     ]
    }
   ],
   "source": [
    "p = gridplot([[tltPlot],[lblPlot1, lblPlot2, lblPlot3],[plotMapBase],[barSentiment],[dateSentiment,hourSentiment]])\n",
    "show(p)\n",
    "# output_file(\"tourist_dashboard.html\")\n",
    "# save(p)"
   ]
  },
  {
   "cell_type": "code",
   "execution_count": null,
   "metadata": {},
   "outputs": [],
   "source": []
  }
 ],
 "metadata": {
  "kernelspec": {
   "display_name": "Python 3",
   "language": "python",
   "name": "python3"
  },
  "language_info": {
   "codemirror_mode": {
    "name": "ipython",
    "version": 3
   },
   "file_extension": ".py",
   "mimetype": "text/x-python",
   "name": "python",
   "nbconvert_exporter": "python",
   "pygments_lexer": "ipython3",
   "version": "3.6.4"
  }
 },
 "nbformat": 4,
 "nbformat_minor": 2
}
