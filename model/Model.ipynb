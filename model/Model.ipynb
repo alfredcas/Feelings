{
 "cells": [
  {
   "cell_type": "code",
   "execution_count": 81,
   "metadata": {},
   "outputs": [],
   "source": [
    "import numpy as np\n",
    "import pandas as pd\n",
    "import matplotlib.pyplot as plt\n",
    "from keras.models import Sequential\n",
    "from keras.layers import Dense,Activation,Embedding,GlobalMaxPooling1D\n",
    "from keras.layers import Dropout\n",
    "from keras.layers import Convolution1D\n",
    "from keras.layers import Flatten\n",
    "from keras.utils import np_utils\n",
    "from keras.layers import Flatten\n",
    "from keras.layers.convolutional import Conv2D,Conv1D\n",
    "from keras.layers.convolutional import MaxPooling2D,MaxPooling1D\n",
    "\n",
    "from sklearn.feature_extraction.text import CountVectorizer\n",
    "from sklearn.feature_extraction.text import TfidfTransformer\n",
    "from sklearn.model_selection import train_test_split\n",
    "from sklearn.preprocessing import LabelBinarizer\n",
    "from sklearn.metrics import confusion_matrix,classification_report\n",
    "\n",
    "import re\n",
    "import unidecode\n",
    "import nltk\n",
    "from datetime import datetime"
   ]
  },
  {
   "cell_type": "code",
   "execution_count": 58,
   "metadata": {},
   "outputs": [],
   "source": [
    "def get_time_info(df):\n",
    "    # Time information transformed into hour of the day + day of the week one-hot encoding matrices\n",
    "    tweet_created = pd.to_datetime(df['tweet_created'])\n",
    "    hoursday = tweet_created.dt.hour\n",
    "    weekday = tweet_created.dt.dayofweek\n",
    "\n",
    "    # One-hot encoding for 'hoursday' and 'weekday'\n",
    "    hour1hot = pd.get_dummies(hoursday,prefix='h',columns=list(range(24)))\n",
    "    weekday1hot = pd.get_dummies(weekday,prefix='wd',columns=list(range(7)))\n",
    "    return hour1hot\n",
    "\n",
    "# Extract emojis from text\n",
    "from emoji import UNICODE_EMOJI #pip install emoji\n",
    "\n",
    "def emoji_shortname(patterns,thelist):\n",
    "    elist = []\n",
    "    for pattern in patterns:\n",
    "        for emoji in thelist:\n",
    "            match = re.search(pattern,emoji)\n",
    "            if match: elist.append(emoji)\n",
    "    return elist\n",
    "\n",
    "def get_emoji_img(mydict,emojiShortname):\n",
    "    ## Extract unicode emoji images based on the selected shortnames\n",
    "    return list(mydict.keys())[list(mydict.values()).index(emojiShortname)]\n",
    "\n",
    "def in_emoji(tweet,emojilist):\n",
    "    emo = 0\n",
    "    inemoji = []\n",
    "    for emoji in emojilist:\n",
    "        match = tweet.find(emoji)\n",
    "        if match != -1: inemoji.append(emoji)\n",
    "    if(len(inemoji) >=1): emo = 1\n",
    "    return emo \n",
    "\n",
    "def get_emoji(df):\n",
    "    # List of UNICODE emojis\n",
    "    unicodeemojilist = list(UNICODE_EMOJI.values())\n",
    "\n",
    "    # Regular expressions to cast negative emoji in the list of Unicode Emoji\n",
    "    negative_patterns = [re.compile(r'.*frown.*(face)'),re.compile(r'confounded'),re.compile(r'disappoint'),\n",
    "                     re.compile(r'worried'),re.compile(r'crying'),re.compile(r'\\bang[er][ry]'),re.compile(r'fear'),\n",
    "                     re.compile(r'weary'),re.compile(r'exploding_face'),re.compile(r'grimacing'),\n",
    "                     re.compile(r'face_with_steam_from_nose'),re.compile(r'pouting_face'),re.compile(r'sleepy_face'),\n",
    "                     re.compile(r'downcast_face_with_sweat'),re.compile(r'unamused_face'),\n",
    "                     re.compile(r'see-no-evil_monkey'),re.compile(r'pensive_face'),re.compile(r'persevering_face'),\n",
    "                     re.compile(r'anxi'),re.compile(r'scream'),re.compile(r'hot_face'),re.compile(r'flushed'),\n",
    "                     re.compile(r'zany_face'),re.compile(r'dizzy.*(face)'),re.compile(r'face_with_symbols_on_mouth'),\n",
    "                     re.compile(r'thumbs_down:'),re.compile(r'middle_finger:'),re.compile(r'broken_heart')]\n",
    "    # Regular expressions to cast positive emoji in the list of Unicode Emoji\n",
    "    positive_patterns = [re.compile(r'grin'),re.compile(r'joy'),re.compile(r'smil'),re.compile(r'kiss:'),re.compile(r'wink'),\n",
    "           re.compile(r'savoring_food'),re.compile(r'[^broken|couple_with]\\wheart'),re.compile(r'thumbs_up:'),\n",
    "           re.compile(r'OK_hand:'),re.compile(r'clapping_hands:'),re.compile(r'waving_hand:'),\n",
    "           re.compile(r'raised_hand:'),re.compile(r':relieved_face')]    \n",
    "                \n",
    "    # List of negative/positive emojis shortnames\n",
    "    negative_emoji_shortname = emoji_shortname(negative_patterns,unicodeemojilist)\n",
    "    positive_emoji_shortname = emoji_shortname(positive_patterns,unicodeemojilist)\n",
    "\n",
    "    # List of negative/positive emojis\n",
    "    nlist = []\n",
    "    for emoji in negative_emoji_shortname:\n",
    "        nlist.append(get_emoji_img(UNICODE_EMOJI,emoji)) \n",
    "    plist = []\n",
    "    for emoji in positive_emoji_shortname:\n",
    "        plist.append(get_emoji_img(UNICODE_EMOJI,emoji)) \n",
    "    \n",
    "    # Save the number of positive and negative emojis in two new columns\n",
    "    emopos = df['text'].apply(in_emoji,emojilist=plist)\n",
    "    emoneg = df['text'].apply(in_emoji,emojilist=nlist)\n",
    "    \n",
    "    emoji1hot = pd.DataFrame({'emopos':emopos,'emoneg':emoneg})\n",
    "    #emoji1hot.emopos.sum()\n",
    "    return emoji1hot\n",
    "\n",
    "import unidecode #pip install unidecode\n",
    "import string\n",
    "\n",
    "def basicCleaning(tweet):\n",
    "    #Convert to lower case\n",
    "    tweet = tweet.lower()\n",
    "    #Delete URLs www.* or https?://*\n",
    "    tweet = re.sub('((www\\.[^\\s]+)|(https?://[^\\s]+))','',tweet)\n",
    "    # Remove accents\n",
    "    tweet = unidecode.unidecode(tweet)\n",
    "    #Delete via, rt and by\n",
    "    tweet = re.sub(r'\\b(rt|via|by)\\b','',tweet)\n",
    "    # Remove numbers\n",
    "    tweet = re.sub(r'\\d+','',tweet)\n",
    "    # Remove single characters\n",
    "    tweet = re.sub(r'\\b\\w\\b','',tweet)\n",
    "    # Remove email addresses\n",
    "    tweet = re.sub(r'\\w*@\\w*','',tweet)\n",
    "    #Remove additional white spaces\n",
    "    tweet = re.sub('\\s+', ' ', tweet)\n",
    "    # Convert more than 2 letter repetitions to 2 letter\n",
    "    # funnnnny --> funny\n",
    "    tweet = re.sub(r'(.)\\1+', r'\\1\\1', tweet)\n",
    "    return tweet\n",
    "\n",
    "def moreCleaning(tweet):\n",
    "    #Delete @usernames\n",
    "    #tweet = re.sub('@[^\\s]+','',tweet)\n",
    "    #Delete #hashtags\n",
    "    tweet = re.sub('#[^\\s]+','',tweet)\n",
    "    # Remove punctuation (includes @, \\ and #)\n",
    "    regex = re.compile('[%s]' % re.escape(string.punctuation+u\"¡\"+u\"¿\"+u\"€\"))\n",
    "    tweet = re.sub(regex,'',tweet)\n",
    "    #Remove additional white spaces\n",
    "    tweet = re.sub('\\s+', ' ', tweet)\n",
    "    return tweet\n",
    "\n",
    "def extract_airline(tweet):\n",
    "    airlinesList = ['aena','aeromar','aeromexico','aireuropa','airmadrid','airnostrum','americanairlines',\n",
    "         'avianca','blueair','britishairways','easyjet','emirates','iberia','klm',\n",
    "         'lufthansa','niki','norwegian','qatar','ryanair','spanair','spiritairlines',\n",
    "         'tame','vasp','vueling','westjet','wizzair']\n",
    "    patterns = [re.compile(r'aena'),re.compile(r'aeromar?'),\n",
    "            re.compile(r'aeromexi?c?o?'),re.compile(r'air\\s?europ?a?'),\n",
    "            re.compile(r'airmadr?i?d?'),re.compile(r'airnostru?m?'),\n",
    "            re.compile(r'american\\s?air?l?i?n?e?s?'),re.compile(r'avianca'),re.compile(r'blueai?r?'),\n",
    "            re.compile(r'british\\s?a?i?r?w?a?y?s?'),re.compile(r'easyjet'),\n",
    "            re.compile(r'emitares'),\n",
    "            re.compile(r'ibe?r?i?a?'),re.compile(r'klm'),\n",
    "            re.compile(r'lufthansa'),re.compile(r'niki'),re.compile(r'norwegian'),\n",
    "            re.compile(r'quatara?i?r?'),re.compile(r'ryanai?r?'),\n",
    "            re.compile(r'spanai?r?'),re.compile(r'spiritairl?i?n?e?s?'),\n",
    "            re.compile(r'tame'),re.compile(r'vasp'),\n",
    "            re.compile(r'vueling'),re.compile(r'westjet'),re.compile(r'wizza?i?r?')]\n",
    "      \n",
    "    noms = str()\n",
    "    i = 0\n",
    "    for airline in patterns:\n",
    "        match = re.search(airline, tweet)\n",
    "        if match : noms = noms+'|'+airlinesList[i]\n",
    "        i = i + 1\n",
    "    if (len(noms) == 0): \n",
    "        noms = 'noairline'\n",
    "    else:\n",
    "        noms = noms[1:]\n",
    "    return noms\n",
    "\n",
    "def cleaning_and_airlines(df):\n",
    "    airlinesList = ['aena','aeromar','aeromexico','aireuropa','airmadrid','airnostrum','americanairlines',\n",
    "         'avianca','blueair','britishairways','easyjet','emirates','iberia','klm',\n",
    "         'lufthansa','niki','noairline','norwegian','qatar','ryanair','spanair','spiritairlines',\n",
    "         'tame','vasp','vueling','westjet','wizzair']\n",
    "    textClean = df['text'].apply(basicCleaning)\n",
    "    airline = textClean.apply(extract_airline)\n",
    "\n",
    "    # From 'airline' column create a one-hot encoding matrix for airline name\n",
    "    tweet_airline = airline.str.split(r'|', expand=True).stack().reset_index(level='tweet_id')\n",
    "    tweet_airline.columns = ['tweet_id','airline']\n",
    "    tweet_airline = tweet_airline.set_index('tweet_id')\n",
    "    # One-hot encoding for airline name\n",
    "    onehot = pd.get_dummies(tweet_airline['airline'],columns=airlinesList)\n",
    "    #print(onehot.columns)\n",
    "    airlines1hot = onehot.groupby('tweet_id').sum()\n",
    "    #airlines1hot.sum() #Check the list of airlines extracted\n",
    "    return airlines1hot\n",
    "\n",
    "def get_1hot_hourAirlineEmoji(df):\n",
    "    hour1hot = get_time_info(df)\n",
    "    emoji1hot = get_emoji(df)\n",
    "    #airlines1hot = cleaning_and_airlines(df)\n",
    "    #print(hour1hot.shape,emoji1hot.shape,airlines1hot.shape)\n",
    "\n",
    "    # Concatenate the three 1-hot-encoding dataframes : hour + airline + emoji\n",
    "    merged = pd.concat([hour1hot,emoji1hot], axis=1, join_axes=[df.index])\n",
    "    #merged = pd.concat([hour1hot,emoji1hot], axis=1, join_axes=[df.index])\n",
    "    return merged"
   ]
  },
  {
   "cell_type": "code",
   "execution_count": 59,
   "metadata": {},
   "outputs": [],
   "source": [
    "seed = 123\n",
    "np.random.seed(seed)"
   ]
  },
  {
   "cell_type": "code",
   "execution_count": 60,
   "metadata": {},
   "outputs": [],
   "source": [
    "df = pd.read_csv('../tweets_public.csv', encoding='utf-16', index_col='tweet_id', sep=',')"
   ]
  },
  {
   "cell_type": "code",
   "execution_count": 61,
   "metadata": {},
   "outputs": [],
   "source": [
    "def processTweet2(tweet):\n",
    "    # process the tweets\n",
    "\n",
    "    #Convert to lower case\n",
    "    tweet = tweet.lower()\n",
    "    #Convert www.* or https?://* to URL\n",
    "    tweet = re.sub('((www\\.[^\\s]+)|(https?://[^\\s]+))','URL',tweet)\n",
    "    #Convert @username to AT_USER\n",
    "    tweet = re.sub('@[^\\s]+','AT_USER',tweet)\n",
    "    #Remove additional white spaces\n",
    "    tweet = re.sub('[\\s]+', ' ', tweet)\n",
    "    #Replace #word with word\n",
    "    tweet = re.sub(r'#([^\\s]+)', r'\\1', tweet)\n",
    "    #tweet = re.sub(r'\\#\\w+','',tweet)\n",
    "    return tweet  \n",
    "\n",
    "def handle_emojis(tweet):\n",
    "    tweet = re.sub(r'CC:', ' EMOPOS ', tweet)\n",
    "    # Smile -- :), : ), :-), (:, ( :, (-:, :')\n",
    "    tweet = re.sub(r'(:\\s?\\)|:-\\)|\\(\\s?:|\\(-:|:\\'\\))', ' EMOPOS ', tweet)\n",
    "    # Laugh -- :D, : D, :-D, xD, x-D, XD, X-D\n",
    "    tweet = re.sub(r'(:\\s?D|:-D|x-?D|X-?D)', ' EMOPOS ', tweet)\n",
    "    # Love -- <3, :*\n",
    "    tweet = re.sub(r'(<3|:\\*)', ' EMOPOS ', tweet)\n",
    "    # Wink -- ;-), ;), ;-D, ;D, (;,  (-;\n",
    "    tweet = re.sub(r'(;-?\\)|;-?D|\\(-?;)', ' EMOPOS ', tweet)\n",
    "    # Sad -- :-(, : (, :(, ):, )-:\n",
    "    tweet = re.sub(r'(:\\s?\\(|:-\\(|\\)\\s?:|\\)-:)', ' EMONEG ', tweet)\n",
    "    # Cry -- :,(, :'(, :\"(\n",
    "    tweet = re.sub(r'(:,\\(|:\\'\\(|:\"\\()', ' EMONEG ', tweet)\n",
    "    return tweet\n",
    "\n",
    "def preprocess_word(word):\n",
    "    # Remove punctuation\n",
    "    #word = word.strip('\\'\"?!,.():;')\n",
    "    word = word.strip('\\'\"?!,.')\n",
    "    # Convert more than 2 letter repetitions to 2 letter\n",
    "    # funnnnny --> funny\n",
    "    word = re.sub(r'(.)\\1+', r'\\1\\1', word)\n",
    "    # Remove - & '\n",
    "    word = re.sub(r'(-|\\')', '', word)\n",
    "    # remove numbers\n",
    "    word = re.sub(r'\\d+','',word)\n",
    "    #remove users \n",
    "    word = re.sub(r'AT_USER','',word)\n",
    "    word = re.sub(r'URL','',word)\n",
    "    word = re.sub(r'rt','',word)\n",
    "    word = re.sub(r'via','',word)\n",
    "    word = re.sub(r'by','',word)\n",
    "    return word\n",
    "\n",
    "def remove_accents(word):\n",
    "    word = unidecode.unidecode(word)\n",
    "    return word\n",
    "\n",
    "def is_valid_word(word):\n",
    "    # Check if word begins with an alphabet\n",
    "    return (re.search(r'^[a-zA-Z][a-z0-9A-Z\\._]*$', word) is not None)\n",
    "\n",
    "def is_reply(df):\n",
    "    if df:\n",
    "        return 1\n",
    "    else:\n",
    "        return 0\n"
   ]
  },
  {
   "cell_type": "code",
   "execution_count": 62,
   "metadata": {},
   "outputs": [],
   "source": [
    "tweets = [handle_emojis(tweet) for tweet in df.text.values]\n",
    "tweets2 = [processTweet2(tweet) for tweet in tweets]\n",
    "tweets3 = [' '.join(preprocess_word(remove_accents(word) )for word in tweet.split(' ')) for tweet in tweets2]\n",
    "df.text = tweets3\n",
    "sno = nltk.stem.SnowballStemmer('spanish')\n",
    "tweet_1 = [' '.join(sno.stem(word) for word in tweet.split(' ')) for tweet in df.text.values]\n",
    "lemma = nltk.wordnet.WordNetLemmatizer()\n",
    "tweet_2 = [' '.join(lemma.lemmatize(word,pos='v') for word in tweet.split(' ')) for tweet in tweet_1]\n",
    "df.text = [line.strip(' ') for line in tweet_2]\n",
    "count_vect = CountVectorizer(ngram_range=(1,2),token_pattern=r'\\b\\w+\\b')\n",
    "X_train_counts = count_vect.fit_transform(df.text.values)\n",
    "voc = count_vect.vocabulary_\n",
    "X_train_counts = X_train_counts.toarray()\n",
    "tfidf_transformer = TfidfTransformer()\n",
    "X_train_tfidf = tfidf_transformer.fit_transform(X_train_counts)\n",
    "extra_tomerge = get_1hot_hourAirlineEmoji(df)\n",
    "all_matrix = np.column_stack((X_train_tfidf.toarray(),extra_tomerge.values))\n",
    "all_matrix_2 = np.c_[all_matrix,df['is_reply'].apply(is_reply).values]\n",
    "features_train,features_test,label_train,label_test = \\\n",
    "train_test_split(all_matrix_2, df.airline_sentiment.values,test_size=0.15,random_state = 123)"
   ]
  },
  {
   "cell_type": "code",
   "execution_count": 63,
   "metadata": {},
   "outputs": [
    {
     "name": "stdout",
     "output_type": "stream",
     "text": [
      "(6686, 50065) (1181, 50065)\n",
      "(6686,) (1181,)\n"
     ]
    }
   ],
   "source": [
    "print(features_train.shape, features_test.shape)\n",
    "print(label_train.shape,label_test.shape)"
   ]
  },
  {
   "cell_type": "code",
   "execution_count": 64,
   "metadata": {},
   "outputs": [
    {
     "data": {
      "text/plain": [
       "50065"
      ]
     },
     "execution_count": 64,
     "metadata": {},
     "output_type": "execute_result"
    }
   ],
   "source": [
    "features_train.shape[1]"
   ]
  },
  {
   "cell_type": "code",
   "execution_count": 65,
   "metadata": {},
   "outputs": [
    {
     "name": "stdout",
     "output_type": "stream",
     "text": [
      "3\n"
     ]
    }
   ],
   "source": [
    "num_classes = len(np.unique(label_train))\n",
    "print(num_classes)"
   ]
  },
  {
   "cell_type": "code",
   "execution_count": 66,
   "metadata": {},
   "outputs": [
    {
     "name": "stdout",
     "output_type": "stream",
     "text": [
      "[[1 0 0]\n",
      " [1 0 0]\n",
      " [1 0 0]\n",
      " ...\n",
      " [1 0 0]\n",
      " [0 0 1]\n",
      " [1 0 0]]\n"
     ]
    }
   ],
   "source": [
    "encoder = LabelBinarizer()\n",
    "encoder.fit(label_train)\n",
    "label_train = encoder.transform(label_train)\n",
    "label_test = encoder.transform(label_test)\n",
    "print(label_train)"
   ]
  },
  {
   "cell_type": "code",
   "execution_count": 67,
   "metadata": {},
   "outputs": [],
   "source": [
    "model = Sequential()\n",
    "model.add(Dense(2000, input_dim=features_train.shape[1], kernel_initializer='normal', activation='relu'))\n",
    "model.add(Dropout(0.2))\n",
    "model.add(Dense(1000,kernel_initializer='normal',activation='relu'))\n",
    "model.add(Dropout(0.2))\n",
    "model.add(Dense(1000,kernel_initializer='normal',activation='relu'))\n",
    "model.add(Dense(num_classes, kernel_initializer='normal', activation='softmax'))\n",
    "model.compile(loss='categorical_crossentropy', optimizer='adam', metrics=['accuracy'])"
   ]
  },
  {
   "cell_type": "code",
   "execution_count": 68,
   "metadata": {},
   "outputs": [
    {
     "name": "stdout",
     "output_type": "stream",
     "text": [
      "Train on 6686 samples, validate on 1181 samples\n",
      "Epoch 1/10\n",
      "6686/6686 [==============================] - 189s 28ms/step - loss: 0.9720 - acc: 0.5156 - val_loss: 0.8632 - val_acc: 0.5826\n",
      "Epoch 2/10\n",
      "6686/6686 [==============================] - 188s 28ms/step - loss: 0.4675 - acc: 0.8181 - val_loss: 0.9812 - val_acc: 0.5834\n",
      "Epoch 3/10\n",
      "6686/6686 [==============================] - 201s 30ms/step - loss: 0.1938 - acc: 0.9245 - val_loss: 1.0395 - val_acc: 0.5749\n",
      "Epoch 4/10\n",
      "6686/6686 [==============================] - 181s 27ms/step - loss: 0.1467 - acc: 0.9381 - val_loss: 1.0771 - val_acc: 0.5910\n",
      "Epoch 5/10\n",
      "6686/6686 [==============================] - 167s 25ms/step - loss: 0.1273 - acc: 0.9442 - val_loss: 1.0865 - val_acc: 0.5758\n",
      "Epoch 6/10\n",
      "6686/6686 [==============================] - 187s 28ms/step - loss: 0.1143 - acc: 0.9462 - val_loss: 1.1740 - val_acc: 0.5758\n",
      "Epoch 7/10\n",
      "6686/6686 [==============================] - 181s 27ms/step - loss: 0.1067 - acc: 0.9487 - val_loss: 1.2317 - val_acc: 0.5893\n",
      "Epoch 8/10\n",
      "6686/6686 [==============================] - 168s 25ms/step - loss: 0.1034 - acc: 0.9494 - val_loss: 1.1660 - val_acc: 0.5775\n",
      "Epoch 9/10\n",
      "6686/6686 [==============================] - 165s 25ms/step - loss: 0.1059 - acc: 0.9487 - val_loss: 1.2423 - val_acc: 0.5766\n",
      "Epoch 10/10\n",
      "6686/6686 [==============================] - 171s 26ms/step - loss: 0.0988 - acc: 0.9481 - val_loss: 1.2868 - val_acc: 0.5817\n"
     ]
    },
    {
     "data": {
      "text/plain": [
       "<keras.callbacks.History at 0x10e553b70>"
      ]
     },
     "execution_count": 68,
     "metadata": {},
     "output_type": "execute_result"
    }
   ],
   "source": [
    "model.fit(features_train,label_train, validation_data=(features_test,label_test), epochs = 10, batch_size=100, verbose=1)"
   ]
  },
  {
   "cell_type": "code",
   "execution_count": 69,
   "metadata": {},
   "outputs": [
    {
     "name": "stdout",
     "output_type": "stream",
     "text": [
      "1181/1181 [==============================] - 7s 6ms/step\n",
      "41.828958532448844\n"
     ]
    }
   ],
   "source": [
    "scores = model.evaluate(features_test,label_test,verbose = 1)\n",
    "print(100-scores[1]*100)"
   ]
  },
  {
   "cell_type": "code",
   "execution_count": 70,
   "metadata": {
    "scrolled": true
   },
   "outputs": [],
   "source": [
    "#label_all = encoder.transform(df.airline_sentiment.values)\n",
    "#model.fit(all_matrix_2,label_all, epochs = 10, batch_size=100, verbose=1)"
   ]
  },
  {
   "cell_type": "code",
   "execution_count": 71,
   "metadata": {},
   "outputs": [],
   "source": [
    "prediction_test = model.predict(features_test)"
   ]
  },
  {
   "cell_type": "code",
   "execution_count": 72,
   "metadata": {},
   "outputs": [],
   "source": [
    "pred_test = encoder.inverse_transform(prediction_test)"
   ]
  },
  {
   "cell_type": "code",
   "execution_count": 77,
   "metadata": {},
   "outputs": [],
   "source": [
    "label_test = encoder.inverse_transform(label_test)"
   ]
  },
  {
   "cell_type": "code",
   "execution_count": 104,
   "metadata": {},
   "outputs": [],
   "source": [
    "def plot_confusion_matrix(mat):\n",
    "    plt.imshow(mat,\n",
    "               cmap=plt.cm.gray_r, interpolation='nearest')\n",
    "    plt.colorbar()\n",
    "    plt.ylabel('true value')\n",
    "    plt.xlabel('predicted value')\n",
    "    plt.xticks([0,1,2],['positive','neutral','negative'])\n",
    "    plt.yticks([0,1,2],['positive','neutral','negative'])\n",
    "    plt.show()"
   ]
  },
  {
   "cell_type": "code",
   "execution_count": 107,
   "metadata": {},
   "outputs": [
    {
     "data": {
      "image/png": "[encoded data removed]",
      "text/plain": [
       "<matplotlib.figure.Figure at 0x12500fc18>"
      ]
     },
     "metadata": {},
     "output_type": "display_data"
    }
   ],
   "source": [
    "plt.figure()\n",
    "plt.imshow(mat,\n",
    "               cmap=plt.cm.gray_r, interpolation='nearest')\n",
    "plt.colorbar()\n",
    "plt.ylabel('true value')\n",
    "plt.xlabel('predicted value')\n",
    "plt.xticks([0,1,2],['positive','neutral','negative'])\n",
    "plt.yticks([0,1,2],['positive','neutral','negative'])\n",
    "plt.savefig(\"confusion_matrix.png\",bbox_inches = \"tight\")"
   ]
  },
  {
   "cell_type": "code",
   "execution_count": 105,
   "metadata": {},
   "outputs": [
    {
     "data": {
      "image/png": "[encoded data removed]",
      "text/plain": [
       "<matplotlib.figure.Figure at 0x11f4a5358>"
      ]
     },
     "metadata": {},
     "output_type": "display_data"
    }
   ],
   "source": [
    "mat = confusion_matrix(label_test,pred_test,labels = ['positive','neutral','negative'])\n",
    "plot_confusion_matrix(mat)"
   ]
  },
  {
   "cell_type": "code",
   "execution_count": 82,
   "metadata": {},
   "outputs": [
    {
     "name": "stdout",
     "output_type": "stream",
     "text": [
      "             precision    recall  f1-score   support\n",
      "\n",
      "   negative       0.65      0.79      0.71       563\n",
      "    neutral       0.48      0.41      0.44       385\n",
      "   positive       0.49      0.36      0.42       233\n",
      "\n",
      "avg / total       0.57      0.58      0.57      1181\n",
      "\n"
     ]
    }
   ],
   "source": [
    "print(classification_report(label_test,pred_test))"
   ]
  },
  {
   "cell_type": "code",
   "execution_count": null,
   "metadata": {},
   "outputs": [],
   "source": []
  },
  {
   "cell_type": "code",
   "execution_count": null,
   "metadata": {},
   "outputs": [],
   "source": []
  },
  {
   "cell_type": "code",
   "execution_count": null,
   "metadata": {},
   "outputs": [],
   "source": []
  },
  {
   "cell_type": "code",
   "execution_count": 18,
   "metadata": {},
   "outputs": [],
   "source": [
    "df_sub = pd.read_csv('../Feelings/tweets_submission.csv')"
   ]
  },
  {
   "cell_type": "code",
   "execution_count": 19,
   "metadata": {},
   "outputs": [],
   "source": [
    "tweets_sub = [handle_emojis(tweet) for tweet in df_sub.text.values]\n",
    "tweets2_sub = [processTweet2(tweet) for tweet in tweets_sub]\n",
    "tweets3_sub = [' '.join(preprocess_word(remove_accents(word) )for word in tweet.split(' ')) for tweet in tweets2_sub]\n",
    "df_sub.text = tweets3_sub\n",
    "sno = nltk.stem.SnowballStemmer('spanish')\n",
    "tweet_1_sub = [' '.join(sno.stem(word) for word in tweet.split(' ')) for tweet in df_sub.text.values]\n",
    "lemma = nltk.wordnet.WordNetLemmatizer()\n",
    "tweet_2_sub = [' '.join(lemma.lemmatize(word,pos='v') for word in tweet.split(' ')) for tweet in tweet_1_sub]\n",
    "df_sub.text = [line.strip(' ') for line in tweet_2_sub]\n",
    "count_vect = CountVectorizer(vocabulary=voc,ngram_range=(1,2),token_pattern=r'\\b\\w+\\b')\n",
    "X_test_counts = count_vect.fit_transform(df_sub.text.values)\n",
    "X_test_counts = X_test_counts.toarray()\n",
    "X_test_tfidf = tfidf_transformer.fit_transform(X_test_counts)\n",
    "extra_tomerge = get_1hot_hourAirlineEmoji(df_sub)\n",
    "all_matrix = np.column_stack((X_test_tfidf.toarray(),extra_tomerge.values))\n",
    "all_matrix_2 = np.c_[all_matrix,df_sub['is_reply'].apply(is_reply).values]"
   ]
  },
  {
   "cell_type": "code",
   "execution_count": 20,
   "metadata": {},
   "outputs": [],
   "source": [
    "prediction = model.predict(all_matrix_2)"
   ]
  },
  {
   "cell_type": "code",
   "execution_count": 21,
   "metadata": {},
   "outputs": [
    {
     "data": {
      "text/plain": [
       "array([[9.9999976e-01, 8.9718448e-08, 8.7793708e-08],\n",
       "       [2.1490701e-03, 5.6678727e-02, 9.4117224e-01],\n",
       "       [9.9999988e-01, 1.0547088e-07, 3.8558809e-08],\n",
       "       ...,\n",
       "       [9.9999738e-01, 2.5320796e-06, 1.7602167e-07],\n",
       "       [9.9999988e-01, 6.9616462e-08, 2.1587840e-10],\n",
       "       [8.0059353e-06, 9.9987352e-01, 1.1846994e-04]], dtype=float32)"
      ]
     },
     "execution_count": 21,
     "metadata": {},
     "output_type": "execute_result"
    }
   ],
   "source": [
    "prediction"
   ]
  },
  {
   "cell_type": "code",
   "execution_count": 22,
   "metadata": {},
   "outputs": [],
   "source": [
    "pred = encoder.inverse_transform(prediction)"
   ]
  },
  {
   "cell_type": "code",
   "execution_count": 23,
   "metadata": {},
   "outputs": [
    {
     "name": "stdout",
     "output_type": "stream",
     "text": [
      "Submission file created: submission_06_14_2018-18_32_00.csv\n",
      "Upload it to Kaggle InClass\n"
     ]
    }
   ],
   "source": [
    "def create_submit_file(df_submission, ypred):\n",
    "    date = datetime.now().strftime(\"%m_%d_%Y-%H_%M_%S\")\n",
    "    filename = 'submission_' + date + '.csv'\n",
    "\n",
    "    df_submission['airline_sentiment'] = ypred\n",
    "    df_submission[['tweet_id','airline_sentiment']].to_csv(filename,index_label = False,index = False)\n",
    "\n",
    "    print('Submission file created: {}'.format(filename))\n",
    "    print('Upload it to Kaggle InClass')\n",
    "#prediction[prediction == 0] = \"negative\"\n",
    "#prediction[prediction == 1] = \"neutral\"\n",
    "#prediction[prediction == 2] = \"positive\"\n",
    "create_submit_file(df_sub,pred)"
   ]
  },
  {
   "cell_type": "code",
   "execution_count": null,
   "metadata": {},
   "outputs": [],
   "source": []
  }
 ],
 "metadata": {
  "kernelspec": {
   "display_name": "Python 3",
   "language": "python",
   "name": "python3"
  },
  "language_info": {
   "codemirror_mode": {
    "name": "ipython",
    "version": 3
   },
   "file_extension": ".py",
   "mimetype": "text/x-python",
   "name": "python",
   "nbconvert_exporter": "python",
   "pygments_lexer": "ipython3",
   "version": "3.6.5"
  }
 },
 "nbformat": 4,
 "nbformat_minor": 2
}
