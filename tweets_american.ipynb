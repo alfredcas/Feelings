{
 "cells": [
  {
   "cell_type": "code",
   "execution_count": 2,
   "metadata": {},
   "outputs": [],
   "source": [
    "import numpy as np\n",
    "import pandas as pd\n",
    "from sklearn.feature_extraction.text import CountVectorizer\n",
    "from sklearn.model_selection import train_test_split\n",
    "from sklearn.linear_model import SGDClassifier\n",
    "from sklearn.preprocessing import StandardScaler\n",
    "from sklearn.ensemble import RandomForestClassifier\n",
    "from sklearn.neural_network import MLPClassifier\n",
    "from sklearn.model_selection import GridSearchCV\n",
    "from sklearn.decomposition import PCA\n",
    "from sklearn.feature_extraction.text import TfidfTransformer\n",
    "from sklearn import metrics\n",
    "from sklearn.naive_bayes import MultinomialNB\n",
    "from sklearn.pipeline import Pipeline\n",
    "from sklearn.svm import LinearSVC\n",
    "from imblearn.over_sampling import SMOTE, ADASYN\n",
    "import matplotlib.pyplot as plt\n",
    "import nltk\n",
    "from datetime import datetime\n",
    "import time\n",
    "import datetime\n",
    "import re\n",
    "import random"
   ]
  },
  {
   "cell_type": "code",
   "execution_count": 273,
   "metadata": {},
   "outputs": [],
   "source": [
    "df = pd.read_csv('tweets_public.csv', index_col='tweet_id')\n",
    "df_submission = pd.read_csv('tweets_submission.csv', index_col='tweet_id')"
   ]
  },
  {
   "cell_type": "code",
   "execution_count": 274,
   "metadata": {},
   "outputs": [],
   "source": [
    "#df_neg = df.query('airline_sentiment == \"negative\"').sample(frac=0.3)# and \\airline_sentiment_confidence >= 0.5 and negativereason_confidence >= 0.5')\n",
    "#df_neu = df.query('airline_sentiment == \"neutral\"')#.sample(frac = 3,replace = True)# and airline_sentiment_confidence >= 0.5')\n",
    "#df_pos = df.query('airline_sentiment == \"positive\"')#.sample(frac = 4,replace = True)# and airline_sentiment_confidence >= 0.5')\n",
    "#frames = [df_neg,df_neu,df_pos]\n",
    "#print(len(df_neg),len(df_neu),len(df_pos))\n",
    "#df = pd.concat(frames)\n",
    "#print(len(df))"
   ]
  },
  {
   "cell_type": "code",
   "execution_count": 275,
   "metadata": {},
   "outputs": [
    {
     "name": "stdout",
     "output_type": "stream",
     "text": [
      "Index(['airline_sentiment', 'airline_sentiment_confidence', 'negativereason',\n",
      "       'negativereason_confidence', 'airline', 'airline_sentiment_gold',\n",
      "       'name', 'negativereason_gold', 'retweet_count', 'text', 'tweet_coord',\n",
      "       'tweet_created', 'tweet_location', 'user_timezone'],\n",
      "      dtype='object')\n",
      "Index(['airline', 'name', 'retweet_count', 'text', 'tweet_coord',\n",
      "       'tweet_created', 'tweet_location', 'user_timezone'],\n",
      "      dtype='object')\n"
     ]
    }
   ],
   "source": [
    "print(df.columns)\n",
    "print(df_submission.columns)"
   ]
  },
  {
   "cell_type": "code",
   "execution_count": 276,
   "metadata": {},
   "outputs": [],
   "source": [
    "tweet_created = [tweet.split(' ')[0] for tweet in df.tweet_created.values]\n",
    "df.tweet_created = tweet_created\n",
    "tweet_created_submission = [tweet.split(' ')[0] for tweet in df_submission.tweet_created.values]\n",
    "df_submission.tweet_created = tweet_created_submission"
   ]
  },
  {
   "cell_type": "code",
   "execution_count": 277,
   "metadata": {},
   "outputs": [],
   "source": [
    "def processTweet2(tweet):\n",
    "    # process the tweets\n",
    "\n",
    "    #Convert to lower case\n",
    "    tweet = tweet.lower()\n",
    "    #Convert www.* or https?://* to URL\n",
    "    tweet = re.sub('((www\\.[^\\s]+)|(https?://[^\\s]+))','URL',tweet)\n",
    "    #Convert @username to AT_USER\n",
    "    tweet = re.sub('@[^\\s]+','AT_USER',tweet)\n",
    "    #Remove additional white spaces\n",
    "    tweet = re.sub('[\\s]+', ' ', tweet)\n",
    "    #Replace #word with word\n",
    "    tweet = re.sub(r'#([^\\s]+)', r'\\1', tweet)\n",
    "    #tweet = re.sub(r'\\#\\w+','',tweet)\n",
    "    return tweet  \n",
    "\n",
    "def handle_emojis(tweet):\n",
    "    tweet = re.sub(r'CC:', ' EMOPOS ', tweet)\n",
    "    # Smile -- :), : ), :-), (:, ( :, (-:, :')\n",
    "    tweet = re.sub(r'(:\\s?\\)|:-\\)|\\(\\s?:|\\(-:|:\\'\\))', ' EMOPOS ', tweet)\n",
    "    # Laugh -- :D, : D, :-D, xD, x-D, XD, X-D\n",
    "    tweet = re.sub(r'(:\\s?D|:-D|x-?D|X-?D)', ' EMOPOS ', tweet)\n",
    "    # Love -- <3, :*\n",
    "    tweet = re.sub(r'(<3|:\\*)', ' EMOPOS ', tweet)\n",
    "    # Wink -- ;-), ;), ;-D, ;D, (;,  (-;\n",
    "    tweet = re.sub(r'(;-?\\)|;-?D|\\(-?;)', ' EMOPOS ', tweet)\n",
    "    # Sad -- :-(, : (, :(, ):, )-:\n",
    "    tweet = re.sub(r'(:\\s?\\(|:-\\(|\\)\\s?:|\\)-:)', ' EMONEG ', tweet)\n",
    "    # Cry -- :,(, :'(, :\"(\n",
    "    tweet = re.sub(r'(:,\\(|:\\'\\(|:\"\\()', ' EMONEG ', tweet)\n",
    "    return tweet\n",
    "\n",
    "def preprocess_word(word):\n",
    "    # Remove punctuation\n",
    "    #word = word.strip('\\'\"?!,.():;')\n",
    "    word = word.strip('\\'\"?!,.')\n",
    "    # Convert more than 2 letter repetitions to 2 letter\n",
    "    # funnnnny --> funny\n",
    "    word = re.sub(r'(.)\\1+', r'\\1\\1', word)\n",
    "    # Remove - & '\n",
    "    word = re.sub(r'(-|\\')', '', word)\n",
    "    # remove numbers\n",
    "    word = re.sub(r'\\d+','',word)\n",
    "    #remove users \n",
    "    word = re.sub(r'AT_USER','',word)\n",
    "    word = re.sub(r'URL','',word)\n",
    "    word = re.sub(r'rt','',word)\n",
    "    word = re.sub(r'via','',word)\n",
    "    return word\n",
    "\n",
    "def is_valid_word(word):\n",
    "    # Check if word begins with an alphabet\n",
    "    return (re.search(r'^[a-zA-Z][a-z0-9A-Z\\._]*$', word) is not None)"
   ]
  },
  {
   "cell_type": "code",
   "execution_count": 278,
   "metadata": {},
   "outputs": [
    {
     "data": {
      "text/plain": [
       "array([' ive been in pricing for  years to know that  bucks a seat is criminal  i understand pricing flying jetblue pricewise',\n",
       "       ' ah  did dm no reply on hold now over hrs just spent over $k to get a united flight tmrw to get home lame',\n",
       "       ' if you lost my belongings then be honest', ...,\n",
       "       ' flight  to orlando',\n",
       "       ' why not deal with that while the planes on the ground instead of diveing the plane &amp; adding  hrs to the flight',\n",
       "       'see what you staed now    our fleets on fleek '], dtype=object)"
      ]
     },
     "execution_count": 278,
     "metadata": {},
     "output_type": "execute_result"
    }
   ],
   "source": [
    "tweets = [handle_emojis(tweet) for tweet in df.text.values]\n",
    "tweets2 = [processTweet2(tweet) for tweet in tweets]\n",
    "tweets3 = [' '.join(preprocess_word(word) for word in tweet.split(' ')) for tweet in tweets2]\n",
    "df.text = tweets3\n",
    "df.text.values"
   ]
  },
  {
   "cell_type": "code",
   "execution_count": 279,
   "metadata": {},
   "outputs": [
    {
     "data": {
      "text/plain": [
       "array(['ive be in price for  year to know that  buck a seat be crimin  i understand price fli jetblu pricewis',\n",
       "       'ah  do dm no repli on hold now over hrs just spend over $k to get a unit flight tmrw to get home lame',\n",
       "       'if you lose my belong then be honest', ..., 'flight  to orlando',\n",
       "       'whi not deal with that while the plane on the grind instead of dive the plane &amp; ad  hrs to the flight',\n",
       "       'see what you sta now    our fleet on fleek'], dtype=object)"
      ]
     },
     "execution_count": 279,
     "metadata": {},
     "output_type": "execute_result"
    }
   ],
   "source": [
    "sno = nltk.stem.SnowballStemmer('english')\n",
    "tweet_1 = [' '.join(sno.stem(word) for word in tweet.split(' ')) for tweet in df.text.values]\n",
    "lemma = nltk.wordnet.WordNetLemmatizer()\n",
    "tweet_2 = [' '.join(lemma.lemmatize(word,pos='v') for word in tweet.split(' ')) for tweet in tweet_1]\n",
    "df.text = [line.strip(' ') for line in tweet_2]\n",
    "df.text.values"
   ]
  },
  {
   "cell_type": "code",
   "execution_count": 280,
   "metadata": {},
   "outputs": [
    {
     "data": {
      "text/plain": [
       "array(['ua just land',\n",
       "       'not happi wife th bday trip would like to be fulli compens for both flight',\n",
       "       'not to mention it a three hour wait to get an agent on the phone',\n",
       "       ..., 'of cours',\n",
       "       'no i dont speak with baggag contact at  number say they will tri to get bag to stay at iad for pick up tmrw',\n",
       "       'what go on with flight  delay beyond  shouldnt thre flight switch at that point'],\n",
       "      dtype=object)"
      ]
     },
     "execution_count": 280,
     "metadata": {},
     "output_type": "execute_result"
    }
   ],
   "source": [
    "tweets_submission = [handle_emojis(tweet) for tweet in df_submission.text.values]\n",
    "tweets2_submission = [processTweet2(tweet) for tweet in tweets_submission]\n",
    "tweets3_submission = [' '.join(preprocess_word(word) for word in tweet.split(' ')) for tweet in tweets2_submission]\n",
    "tweet4_submission = [' '.join(sno.stem(word) for word in tweet.split(' ')) for tweet in tweets3_submission]\n",
    "tweet5_submission = [' '.join(lemma.lemmatize(word,pos = 'v') for word in tweet.split(' ')) for tweet in tweet4_submission]\n",
    "df_submission.text = [line.strip(' ') for line in tweet5_submission]\n",
    "df_submission.text.values"
   ]
  },
  {
   "cell_type": "code",
   "execution_count": 281,
   "metadata": {},
   "outputs": [],
   "source": [
    "#df_neu = df.query('airline_sentiment == \"neutral\"')#.sample(frac = 3,replace = True)# and airline_sentiment_confidence >= 0.5')\n",
    "##' '.join(random.sample(df.text.values[0].split(' '),len(df.text.values[0].split(' '))))\n",
    "#print(len(df_neu))\n",
    "#print(df_neu.text.values[0],df_neu.airline_sentiment.values[0])\n",
    "#df_neu_append = pd.DataFrame()\n",
    "#for j in range(2):\n",
    "#    for i in range(len(df_neu)):\n",
    "#        sentiment = df_neu.airline_sentiment.values[i]\n",
    "#        text = df_neu.text.values[i]\n",
    "#        airline_name = df_neu.airline.values[i]\n",
    "#        new_text = ' '.join(random.sample(text.split(' '),len(text.split(' '))))\n",
    "#        df_neu_append = df_neu_append.append(pd.DataFrame(data = {'text':new_text,'airline':airline_name,\\\n",
    "#                                                              'airline_sentiment':sentiment},index = [i]))\n",
    "#print(len(df_neu_append))\n",
    "#print(df_neu_append.text.values[0],df_neu_append.airline_sentiment.values[0])\n",
    "#\n",
    "#\n",
    "#df_pos = df.query('airline_sentiment == \"positive\"')#.sample(frac = 3,replace = True)# and airline_sentiment_confidence >= 0.5')\n",
    "##' '.join(random.sample(df.text.values[0].split(' '),len(df.text.values[0].split(' '))))\n",
    "#print(len(df_pos))\n",
    "#print(df_pos.text.values[0],df_pos.airline_sentiment.values[0])\n",
    "#df_pos_append = pd.DataFrame()\n",
    "#for j in range(3):\n",
    "#    for i in range(len(df_pos)):\n",
    "#        sentiment = df_pos.airline_sentiment.values[i]\n",
    "#        text = df_pos.text.values[i]\n",
    "#        airline_name = df_pos.airline.values[i]\n",
    "#        new_text = ' '.join(random.sample(text.split(' '),len(text.split(' '))))\n",
    "#        df_pos_append = df_pos_append.append(pd.DataFrame(data = {'text':new_text,'airline':airline_name,\\\n",
    "#                                                              'airline_sentiment':sentiment},index = [i]))\n",
    "#print(len(df_pos_append))\n",
    "#print(df_pos_append.text.values[0],df_pos_append.airline_sentiment.values[0])"
   ]
  },
  {
   "cell_type": "code",
   "execution_count": 282,
   "metadata": {},
   "outputs": [],
   "source": [
    "#df_neu = df_neu.append(df_neu_append)\n",
    "#df_pos = df_pos.append(df_pos_append)\n",
    "#frames = [df_neg,df_neu,df_pos]\n",
    "#df = pd.concat(frames)\n",
    "#print(len(df_neg),len(df_neu),len(df_pos))\n",
    "#print(len(df))"
   ]
  },
  {
   "cell_type": "code",
   "execution_count": 283,
   "metadata": {},
   "outputs": [],
   "source": [
    "for i in np.unique(np.array(df['airline'])):\n",
    "    ind = df.query('airline == @i').index\n",
    "    df.loc[ind,i] = 1\n",
    "american = np.array(df['American'].fillna(value = 0))\n",
    "delta = np.array(df['Delta'].fillna(value = 0))\n",
    "south = np.array(df['Southwest'].fillna(value = 0))\n",
    "usair = np.array(df['US Airways'].fillna(value = 0))\n",
    "united = np.array(df['United'].fillna(value = 0))\n",
    "virgin = np.array(df['Virgin America'].fillna(value = 0))"
   ]
  },
  {
   "cell_type": "code",
   "execution_count": 284,
   "metadata": {},
   "outputs": [],
   "source": [
    "for i in np.unique(np.array(df['tweet_created'])):\n",
    "    ind = df.query('tweet_created == @i').index\n",
    "    df.loc[ind,i] = 1\n",
    "day1 = np.array(df['2015-02-16'].fillna(value = 0))\n",
    "day2 = np.array(df['2015-02-17'].fillna(value = 0))\n",
    "day3 = np.array(df['2015-02-18'].fillna(value = 0))\n",
    "day4 = np.array(df['2015-02-19'].fillna(value = 0))\n",
    "day5 = np.array(df['2015-02-20'].fillna(value = 0))\n",
    "day6 = np.array(df['2015-02-21'].fillna(value = 0))\n",
    "day7 = np.array(df['2015-02-22'].fillna(value = 0))\n",
    "day8 = np.array(df['2015-02-23'].fillna(value = 0))\n",
    "day9 = np.array(df['2015-02-24'].fillna(value = 0))"
   ]
  },
  {
   "cell_type": "code",
   "execution_count": 285,
   "metadata": {},
   "outputs": [],
   "source": [
    "#j = 0\n",
    "#df['user_timezone'] = df['user_timezone'].fillna(value = '0')\n",
    "#for i in np.unique(np.array(df['user_timezone'])):\n",
    "#    ind = df.query('user_timezone == @i').index\n",
    "#    df.loc[ind,i] = 1\n",
    "#    locals()[\"a\"+str(j)] =np.array(df[str(i)].fillna(value = 0))\n",
    "#    j = j + 1"
   ]
  },
  {
   "cell_type": "code",
   "execution_count": 286,
   "metadata": {},
   "outputs": [],
   "source": [
    "for i in np.unique(np.array(df_submission['airline'])):\n",
    "    ind = df_submission.query('airline == @i').index\n",
    "    df_submission.loc[ind,i] = 1\n",
    "american_submission = np.array(df_submission['American'].fillna(value = 0))\n",
    "delta_submission = np.array(df_submission['Delta'].fillna(value = 0))\n",
    "south_submission = np.array(df_submission['Southwest'].fillna(value = 0))\n",
    "usair_submission = np.array(df_submission['US Airways'].fillna(value = 0))\n",
    "united_submission = np.array(df_submission['United'].fillna(value = 0))\n",
    "virgin_submission = np.array(df_submission['Virgin America'].fillna(value = 0))"
   ]
  },
  {
   "cell_type": "code",
   "execution_count": 287,
   "metadata": {},
   "outputs": [],
   "source": [
    "for i in np.unique(np.array(df_submission['tweet_created'])):\n",
    "    ind = df_submission.query('tweet_created == @i').index\n",
    "    df_submission.loc[ind,i] = 1\n",
    "day1_submission = np.array(df_submission['2015-02-16'].fillna(value = 0))\n",
    "day2_submission = np.array(df_submission['2015-02-17'].fillna(value = 0))\n",
    "day3_submission = np.array(df_submission['2015-02-18'].fillna(value = 0))\n",
    "day4_submission = np.array(df_submission['2015-02-19'].fillna(value = 0))\n",
    "day5_submission = np.array(df_submission['2015-02-20'].fillna(value = 0))\n",
    "day6_submission = np.array(df_submission['2015-02-21'].fillna(value = 0))\n",
    "day7_submission = np.array(df_submission['2015-02-22'].fillna(value = 0))\n",
    "day8_submission = np.array(df_submission['2015-02-23'].fillna(value = 0))\n",
    "day9_submission = np.array(df_submission['2015-02-24'].fillna(value = 0))"
   ]
  },
  {
   "cell_type": "code",
   "execution_count": 288,
   "metadata": {},
   "outputs": [],
   "source": [
    "#j = 0\n",
    "#df_submission['user_timezone'] = df_submission['user_timezone'].fillna(value = '0')\n",
    "#for i in np.unique(np.array(df_submission['user_timezone'])):\n",
    "#    ind = df_submission.query('user_timezone == @i').index\n",
    "#    df_submission.loc[ind,i] = 1\n",
    "#    locals()[\"a_submission\"+str(j)] =np.array(df_submission[str(i)].fillna(value = 0))\n",
    "#    j = j + 1"
   ]
  },
  {
   "cell_type": "code",
   "execution_count": 289,
   "metadata": {},
   "outputs": [
    {
     "name": "stdout",
     "output_type": "stream",
     "text": [
      "(8784, 62797)\n"
     ]
    }
   ],
   "source": [
    "count_vect = CountVectorizer(ngram_range=(1,2),token_pattern=r'\\b\\w+\\b')\n",
    "X_train_counts = count_vect.fit_transform(df.text.values)\n",
    "voc = count_vect.vocabulary_\n",
    "print(X_train_counts.shape)\n",
    "X_train_counts = X_train_counts.toarray()"
   ]
  },
  {
   "cell_type": "code",
   "execution_count": 290,
   "metadata": {},
   "outputs": [],
   "source": [
    "X_train_counts = np.column_stack((\\\n",
    "                 np.column_stack((\\\n",
    "                 np.column_stack((\\\n",
    "                 np.column_stack((\\\n",
    "                 np.column_stack((\\\n",
    "                 np.column_stack((X_train_counts,american)),delta)),south)),usair)),united)),virgin))"
   ]
  },
  {
   "cell_type": "code",
   "execution_count": 291,
   "metadata": {},
   "outputs": [
    {
     "name": "stdout",
     "output_type": "stream",
     "text": [
      "(8784, 62803)\n"
     ]
    }
   ],
   "source": [
    "print(X_train_counts.shape)"
   ]
  },
  {
   "cell_type": "code",
   "execution_count": 292,
   "metadata": {},
   "outputs": [],
   "source": [
    "X_train_counts = np.column_stack((\\\n",
    "                 np.column_stack((\\\n",
    "                 np.column_stack((\\\n",
    "                 np.column_stack((\\\n",
    "                 np.column_stack((\\\n",
    "                 np.column_stack((\\\n",
    "                 np.column_stack((\\\n",
    "                 np.column_stack((\\\n",
    "                 np.column_stack((X_train_counts,day1)),day2)),day3)),day4)),day5)),day6)),day7)),day8)),day9))"
   ]
  },
  {
   "cell_type": "code",
   "execution_count": 293,
   "metadata": {},
   "outputs": [
    {
     "name": "stdout",
     "output_type": "stream",
     "text": [
      "(8784, 62812)\n"
     ]
    }
   ],
   "source": [
    "print(X_train_counts.shape)"
   ]
  },
  {
   "cell_type": "code",
   "execution_count": 294,
   "metadata": {},
   "outputs": [],
   "source": [
    "#for i in range(79):\n",
    "#    to_app = locals()[\"a\"+str(i)]\n",
    "#    X_train_counts = np.column_stack((X_train_counts,to_app))"
   ]
  },
  {
   "cell_type": "code",
   "execution_count": 295,
   "metadata": {},
   "outputs": [
    {
     "name": "stdout",
     "output_type": "stream",
     "text": [
      "(8784, 62812)\n"
     ]
    }
   ],
   "source": [
    "print(X_train_counts.shape)"
   ]
  },
  {
   "cell_type": "code",
   "execution_count": 296,
   "metadata": {},
   "outputs": [
    {
     "name": "stdout",
     "output_type": "stream",
     "text": [
      "(8784, 62812)\n"
     ]
    }
   ],
   "source": [
    "tfidf_transformer = TfidfTransformer()\n",
    "X_train_tfidf = tfidf_transformer.fit_transform(X_train_counts)\n",
    "print(X_train_tfidf.shape)\n",
    "#X_train_array = X_train_tfidf.toarray()"
   ]
  },
  {
   "cell_type": "code",
   "execution_count": null,
   "metadata": {},
   "outputs": [],
   "source": []
  },
  {
   "cell_type": "code",
   "execution_count": 297,
   "metadata": {},
   "outputs": [],
   "source": [
    "#X_resampled, y_resampled = ADASYN().fit_sample(X_train_tfidf, df.airline_sentiment.values)"
   ]
  },
  {
   "cell_type": "code",
   "execution_count": 265,
   "metadata": {},
   "outputs": [],
   "source": [
    "#print(X_resampled.shape,y_resampled.shape)"
   ]
  },
  {
   "cell_type": "code",
   "execution_count": 298,
   "metadata": {},
   "outputs": [
    {
     "name": "stdout",
     "output_type": "stream",
     "text": [
      "0.9123232323232323\n",
      "0.9535353535353536\n"
     ]
    }
   ],
   "source": [
    "features_train,features_test,label_train,label_test = \\\n",
    "train_test_split(X_train_tfidf, df.airline_sentiment.values,test_size=0.15,random_state = 123)\n",
    "sgc = SGDClassifier(penalty = 'elasticnet',max_iter = 10)\n",
    "svm = LinearSVC()\n",
    "sgc.fit(features_train,label_train)\n",
    "svm.fit(features_train,label_train)\n",
    "score = sgc.score(features_test,label_test)\n",
    "scoresvm = svm.score(features_test,label_test)\n",
    "print(score)\n",
    "print(scoresvm)"
   ]
  },
  {
   "cell_type": "code",
   "execution_count": 299,
   "metadata": {},
   "outputs": [
    {
     "name": "stdout",
     "output_type": "stream",
     "text": [
      "classification accuracy: 0.9123232323232323\n"
     ]
    },
    {
     "data": {
      "image/png": "[encoded data removed]",
      "text/plain": [
       "<matplotlib.figure.Figure at 0x118e15240>"
      ]
     },
     "metadata": {},
     "output_type": "display_data"
    },
    {
     "name": "stdout",
     "output_type": "stream",
     "text": [
      "             precision    recall  f1-score   support\n",
      "\n",
      "   negative       0.92      0.87      0.89       815\n",
      "    neutral       0.89      0.89      0.89       877\n",
      "   positive       0.93      0.98      0.95       783\n",
      "\n",
      "avg / total       0.91      0.91      0.91      2475\n",
      "\n",
      "classification accuracy: 0.9535353535353536\n"
     ]
    },
    {
     "data": {
      "image/png": "[encoded data removed]",
      "text/plain": [
       "<matplotlib.figure.Figure at 0x21cbaada0>"
      ]
     },
     "metadata": {},
     "output_type": "display_data"
    },
    {
     "name": "stdout",
     "output_type": "stream",
     "text": [
      "             precision    recall  f1-score   support\n",
      "\n",
      "   negative       0.99      0.90      0.94       815\n",
      "    neutral       0.92      0.97      0.95       877\n",
      "   positive       0.96      0.99      0.97       783\n",
      "\n",
      "avg / total       0.96      0.95      0.95      2475\n",
      "\n"
     ]
    }
   ],
   "source": [
    "def plot_confusion_matrix(y, y_pred):\n",
    "    plt.imshow(metrics.confusion_matrix(y, y_pred),\n",
    "               cmap=plt.cm.gray, interpolation='nearest')\n",
    "    plt.colorbar()\n",
    "    plt.ylabel('true value')\n",
    "    plt.xlabel('predicted value')\n",
    "    plt.show()\n",
    "    \n",
    "print (\"classification accuracy:\", metrics.accuracy_score(label_test, sgc.predict(features_test)))\n",
    "plot_confusion_matrix(label_test, sgc.predict(features_test))\n",
    "print(metrics.classification_report(label_test,sgc.predict(features_test)))\n",
    "\n",
    "print (\"classification accuracy:\", metrics.accuracy_score(label_test, svm.predict(features_test)))\n",
    "plot_confusion_matrix(label_test, svm.predict(features_test))\n",
    "print(metrics.classification_report(label_test,svm.predict(features_test)))"
   ]
  },
  {
   "cell_type": "code",
   "execution_count": null,
   "metadata": {},
   "outputs": [],
   "source": []
  },
  {
   "cell_type": "code",
   "execution_count": null,
   "metadata": {},
   "outputs": [],
   "source": []
  },
  {
   "cell_type": "code",
   "execution_count": 302,
   "metadata": {},
   "outputs": [],
   "source": [
    "svm.fit(X_train_tfidf, df.airline_sentiment.values)\n",
    "count_vect = CountVectorizer(vocabulary=voc,ngram_range=(1,2),token_pattern=r'\\b\\w+\\b')\n",
    "X_test_counts = count_vect.fit_transform(df_submission.text.values)\n",
    "X_test_counts = X_test_counts.toarray()\n",
    "X_test_counts = np.column_stack((\\\n",
    "                 np.column_stack((\\\n",
    "                 np.column_stack((\\\n",
    "                 np.column_stack((\\\n",
    "                 np.column_stack((\\\n",
    "                 np.column_stack((X_test_counts,american_submission))\\\n",
    "                                  ,delta_submission)),south_submission))\\\n",
    "                                  ,usair_submission)),united_submission))\\\n",
    "                                 ,virgin_submission))\n",
    "X_test_counts = np.column_stack((\\\n",
    "                 np.column_stack((\\\n",
    "                 np.column_stack((\\\n",
    "                 np.column_stack((\\\n",
    "                 np.column_stack((\\\n",
    "                 np.column_stack((\\\n",
    "                 np.column_stack((\\\n",
    "                 np.column_stack((\\\n",
    "                 np.column_stack((X_test_counts,day1_submission)),day2_submission))\\\n",
    "                                  ,day3_submission)),day4_submission)),day5_submission))\\\n",
    "                                  ,day6_submission)),day7_submission)),day8_submission)),day9_submission))\n",
    "#for i in range(56):\n",
    "#    to_app = locals()[\"a_submission\"+str(i)]\n",
    "#    X_test_counts = np.column_stack((X_test_counts,to_app))\n",
    "#for i in range(23):\n",
    "#    X_test_counts = np.column_stack((X_test_counts,np.zeros(X_test_counts.shape[0])))\n",
    "X_test_tfidf = tfidf_transformer.fit_transform(X_test_counts)\n",
    "prediction = svm.predict(X_test_tfidf)"
   ]
  },
  {
   "cell_type": "code",
   "execution_count": 303,
   "metadata": {},
   "outputs": [
    {
     "name": "stdout",
     "output_type": "stream",
     "text": [
      "Submission file created: submission_02_15_2018-16_13_47.csv\n",
      "Upload it to Kaggle InClass\n"
     ]
    }
   ],
   "source": [
    "def create_submit_file(df_submission, ypred):\n",
    "    date = datetime.datetime.now().strftime(\"%m_%d_%Y-%H_%M_%S\")\n",
    "    filename = 'submission_' + date + '.csv'\n",
    "\n",
    "    df_submission['airline_sentiment'] = ypred\n",
    "    df_submission[['airline_sentiment']].to_csv(filename)\n",
    "\n",
    "    print('Submission file created: {}'.format(filename))\n",
    "    print('Upload it to Kaggle InClass')\n",
    "#prediction[prediction == 0] = \"negative\"\n",
    "#prediction[prediction == 1] = \"neutral\"\n",
    "#prediction[prediction == 2] = \"positive\"\n",
    "create_submit_file(df_submission,prediction)"
   ]
  },
  {
   "cell_type": "code",
   "execution_count": null,
   "metadata": {},
   "outputs": [],
   "source": []
  },
  {
   "cell_type": "code",
   "execution_count": null,
   "metadata": {},
   "outputs": [],
   "source": []
  },
  {
   "cell_type": "code",
   "execution_count": null,
   "metadata": {},
   "outputs": [],
   "source": []
  },
  {
   "cell_type": "code",
   "execution_count": null,
   "metadata": {},
   "outputs": [],
   "source": []
  },
  {
   "cell_type": "code",
   "execution_count": null,
   "metadata": {},
   "outputs": [],
   "source": []
  },
  {
   "cell_type": "code",
   "execution_count": null,
   "metadata": {},
   "outputs": [],
   "source": []
  },
  {
   "cell_type": "code",
   "execution_count": null,
   "metadata": {},
   "outputs": [],
   "source": []
  },
  {
   "cell_type": "code",
   "execution_count": null,
   "metadata": {},
   "outputs": [],
   "source": []
  }
 ],
 "metadata": {
  "kernelspec": {
   "display_name": "Python 3",
   "language": "python",
   "name": "python3"
  },
  "language_info": {
   "codemirror_mode": {
    "name": "ipython",
    "version": 3
   },
   "file_extension": ".py",
   "mimetype": "text/x-python",
   "name": "python",
   "nbconvert_exporter": "python",
   "pygments_lexer": "ipython3",
   "version": "3.6.5"
  }
 },
 "nbformat": 4,
 "nbformat_minor": 2
}
